{
 "cells": [
  {
   "cell_type": "code",
   "execution_count": 1,
   "metadata": {},
   "outputs": [
    {
     "data": {
      "text/plain": [
       "'\\nThis program simulated the shock \\n\\n\\nState of code :\\n    - Odeint integration\\n    - Verlet integration\\n    \\nAutor: Hernan Salinas \\nDate_update : 2/21/2021\\n'"
      ]
     },
     "execution_count": 1,
     "metadata": {},
     "output_type": "execute_result"
    }
   ],
   "source": [
    "import numpy as np\n",
    "import matplotlib.pylab as plt\n",
    "import seaborn as sb\n",
    "from scipy.spatial.distance import cdist\n",
    "from scipy.integrate import odeint\n",
    "import warnings\n",
    "import sys\n",
    "warnings.simplefilter('error')\n",
    "\n",
    "\n",
    "\"\"\"\n",
    "This program simulated the shock \n",
    "\n",
    "\n",
    "State of code :\n",
    "    - Odeint integration\n",
    "    - Verlet integration\n",
    "    \n",
    "Autor: Hernan Salinas \n",
    "Date_update : 2/21/2021\n",
    "\"\"\"\n"
   ]
  },
  {
   "cell_type": "markdown",
   "metadata": {},
   "source": [
    "- \n",
    "\\begin{equation}\n",
    "\\frac{D \\rho}{Dt} = \\sum_{j=1}^N m_j (v_j-v_i)\\cdot \\nabla_i W_{ij}\n",
    "\\end{equation}\n",
    "\n",
    "-\n",
    "\\begin{equation}\n",
    "\\frac{D v_i}{Dt} = \\sum_{j=1}^N m_j \\left( \\frac{P_i}{\\rho_i^2}+ \\frac{P_j}{\\rho_j^2}\\right) \\nabla_i W_{ij}\n",
    "\\end{equation}\n",
    "\n",
    "\n"
   ]
  },
  {
   "cell_type": "code",
   "execution_count": null,
   "metadata": {},
   "outputs": [],
   "source": []
  }
 ],
 "metadata": {
  "kernelspec": {
   "display_name": "Python 3",
   "language": "python",
   "name": "python3"
  },
  "language_info": {
   "codemirror_mode": {
    "name": "ipython",
    "version": 3
   },
   "file_extension": ".py",
   "mimetype": "text/x-python",
   "name": "python",
   "nbconvert_exporter": "python",
   "pygments_lexer": "ipython3",
   "version": "3.8.3"
  }
 },
 "nbformat": 4,
 "nbformat_minor": 4
}
