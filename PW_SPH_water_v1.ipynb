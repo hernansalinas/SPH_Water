{
 "cells": [
  {
   "cell_type": "code",
   "execution_count": 26,
   "metadata": {},
   "outputs": [
    {
     "data": {
      "text/plain": [
       "'\\nThis program simulated of  water drop.\\n\\n\\nState of code : Work in progress.\\n\\n    - Simulation of one water with SPH. \\n    - Verlet integration\\n    \\n\\nBased on: PHYSICAL REVIEW E 96, 033115 (2017)\\n\\nAutor: Hernan Salinas \\nDate_update : 2/21/2021\\n'"
      ]
     },
     "execution_count": 26,
     "metadata": {},
     "output_type": "execute_result"
    }
   ],
   "source": [
    "import numpy as np\n",
    "import matplotlib.pylab as plt\n",
    "import seaborn as sb\n",
    "from scipy.spatial.distance import cdist\n",
    "from scipy.integrate import odeint\n",
    "import warnings\n",
    "import sys\n",
    "warnings.simplefilter('error')\n",
    "\n",
    "\n",
    "\"\"\"\n",
    "This program simulated of  water drop.\n",
    "\n",
    "\n",
    "State of code : Work in progress.\n",
    "\n",
    "    - Simulation of one water with SPH. \n",
    "    - Verlet integration\n",
    "    - Warning problems in the integration\n",
    "    \n",
    "Based on: PHYSICAL REVIEW E 96, 033115 (2017)\n",
    "Autor: Hernan Salinas \n",
    "Date_update : 2/21/2021\n",
    "\"\"\"\n"
   ]
  },
  {
   "cell_type": "markdown",
   "metadata": {},
   "source": [
    "# SPH \n",
    "Un fluido en cada punto y en cada momento tienen  propiedades como densidad, presión, temperatura, energía interna específica, \n",
    "energía potencial gravitacional, viscosidad entre otras propiedades. Las leyes físcas por las \n",
    "que se rigen son las leyes de la graviatación, las leyes de la hidrodinámica, la termodinámica, los \n",
    "modelos fisicos por los que se rigen son las leyes de Newton, ecuación de continuidad, ecuación de \n",
    "Poisson y las ecuaciones de estado.\n",
    "La solución del  problema con todas sus propiedades involucra gran calculo matematico y computacional, es \n",
    "por ello que se realizan las siguentes aproximaciones.\n",
    "\n",
    "- El fluído completo se discretiza en un conjunto de partículas distribuidas $\"$arbitrariamente$\"$ en el espacio.\n",
    "-Cada partícula tiene una posición en el espacio del fluido correspondiente a una parcela del fluido \n",
    "obervada.\n",
    "- La velocidad de cada partícula es igual a la velocidad de la parcela de fluido observado.\n",
    "- Las particulas más que partículas reales, son puntos de observación en el fluido, esta aproximación \n",
    "implica la formuluacion lagrangiana en la descripción del fluido.\n",
    "- Las propiedades \"continuas\" del fluido se calcular interpolando las propiedades medidas en el lugar\n",
    "de cada parcela.\n",
    "- Las propiedades evaluadas sobre la posición de una parcela del fluido se calcula como \n",
    "  $q(r)= \\int q(r')W(r-r',h)d^3r' $, donde $W(r,h)$ es la función de interpolación.\n",
    "\n",
    "\n",
    "\n",
    "## Kernel \n",
    "Para calcular las propiedades  de un fluído se puede  interpolar las propiedades en cada punto del espacio\n",
    "en el que se encuentran las parcelas, para ello se  emplea una función de interpolación o kernel de interpolación,\n",
    "dos tipos de kernel son mostrados en la figura 1 uno gaussiano y otro polinomial, estos kernel estan dados por la ecuaciónes siguientes ecuaciones \n",
    "respectivamente:\n",
    "\n",
    "## Wendland\n",
    "\n",
    "\\begin{equation}\n",
    "W(R, h)=\\alpha \\left\\{\n",
    "  \\begin{matrix} \\left(1-\\frac{|r|^3}{h}\\right) &  0\\leq r< h \\\\ \n",
    "  0 & if \\geq h\n",
    "  \\end{matrix}\n",
    "\\right.\n",
    "\\end{equation}\n",
    "\n",
    "donde $\\alpha_k=168/16\\pi h^3$\n",
    "\n",
    "\n",
    "## Gaussian\n",
    "\\begin{equation}\n",
    " W(R,h)=W_{o} e^{-(r/h)^2}\n",
    "\\end{equation} \n",
    "\n",
    "\n",
    "## Polynomial\n",
    "\\begin{equation}\n",
    " W(R,h)=Wo \\left\\{ \\begin{array}{ll}\n",
    "         4-6(\\frac{R}{h})^2+3(\\frac{R}{h})^3 & \\mbox{si $ 0 <= R <= h $};\\\\\n",
    "         |2-\\frac{R}{h}|^3 & \\mbox{si $h \\leqq R <= 2h$}.\\\\\n",
    " 0 & \\mbox{si $R > 2h$ }          \\end{array} \\right. \n",
    "\\end{equation} \n",
    "\n",
    "Este kernel difiere del reportado en el articulo Shigorina et al 2017"
   ]
  },
  {
   "cell_type": "code",
   "execution_count": 31,
   "metadata": {},
   "outputs": [],
   "source": [
    "def Wendland(R,h):\n",
    "    \"\"\"\n",
    "    Kernel for calculation of the Navier-Stokes momentum equation \n",
    "    Input : \n",
    "    R:  particle separation\n",
    "    h: lenght of particle\n",
    "    Outpunt: \n",
    "    Wenaldn kernel\n",
    "    \"\"\"\n",
    "    α = 168/(16*np.pi*h**3) #dim=3\n",
    "    α = 4.79/(1*np.pi*h**2) #dim=2 #Revisar estos valores\n",
    "  \n",
    "    q = R/h\n",
    "\n",
    "    if 0 <= q < 1:\n",
    "        \n",
    "        W = (1 - q )**3\n",
    "    else: \n",
    "        W = 0\n",
    "        \n",
    "    return W*α  \n",
    "    \n",
    "def Wendland_p(R,h):\n",
    "    \"\"\"\n",
    "    Derivate of Wenland Kernel \n",
    "    \n",
    "    Input:\n",
    "    R:  particle separation\n",
    "    Output: kernel W\n",
    "    \"\"\"\n",
    "    α = 4.79/(1*np.pi*h**2) #dim=2 #Revisar estos valores\n",
    "    q = R/h\n",
    "\n",
    "    if 0 <= q < 1:\n",
    "       \n",
    "        W = - (3./h) * (1 - q ) ** 2\n",
    "    else: \n",
    "        \n",
    "        W = 0\n",
    "        \n",
    "    return W*α\n",
    "    \n",
    "    \n",
    "def KernelGaussian(R,h):\n",
    "    \"\"\"\n",
    "    Input: Radii of particle and h \n",
    "    Output: Kernel values W\n",
    "    \"\"\"\n",
    "    q = R/h\n",
    "\n",
    "    Wo = (np.pi * h **2) ** ( -1 / 2)\n",
    "    W  = Wo * np.exp(- q ** 2)\n",
    "\n",
    "    return W\n",
    "\n",
    "\n",
    "def KernelPolynomial(R,h):\n",
    "    \"\"\"\n",
    "    Input: Radii of particle and h \n",
    "    Output: Kernel W\n",
    "    \n",
    "    \"\"\"\n",
    "    \n",
    "    W0 = 1.0# (np.pi * 4 * h** 3) ** (-1)\n",
    "    W = 0\n",
    "    q = R/h\n",
    "\n",
    "    if 0 <= q <  1:\n",
    "        \n",
    "        W = (1 - (3./2) * q  **2 + (3./4) * q **3)\n",
    "    \n",
    "    elif  1 <= q < 2:\n",
    "        \n",
    "        W = (1./4) * (2 - ( q )) ** 3\n",
    "    \n",
    "    elif q >= 2:\n",
    "        \n",
    "        W = 0\n",
    "        \n",
    "    else:\n",
    "        print(\"Error kernel Polynomial!\",R)\n",
    "    \n",
    "    return W\n",
    "\n",
    "\n",
    "def kernelPolynomial_p(R, h):\n",
    "    #REvisar si es utlizado\n",
    "    W0 = 1.0# (np.pi * 4 * h** 3) ** (-1)\n",
    "    W = 0\n",
    "    q = R/h\n",
    "    \n",
    "    if 0. <= q <  1:\n",
    "        \n",
    "        W = -(3./h) * q + (9./(4*h)) * q **2\n",
    "    \n",
    "    elif  1 <= q < 2:\n",
    "        \n",
    "        W = -(3./(4*h)) * (2 - ( q )) ** 2\n",
    "    \n",
    "    elif q >= 2:\n",
    "        \n",
    "        W = 0\n",
    "        \n",
    "    else:\n",
    "        print(\"Error kernel Polynomial!\",R)\n",
    "    \n",
    "    return W\n",
    "    \n",
    "    \n",
    "    \n",
    " #ref https://pysph.readthedocs.io/en/latest/reference/kernels.html\n"
   ]
  },
  {
   "cell_type": "code",
   "execution_count": 34,
   "metadata": {},
   "outputs": [],
   "source": [
    "h = 0.1\n",
    "step =  h /100\n",
    "R = np.arange(0, 4*h, step)\n",
    "\n",
    "#KG = KernelGaussian(R, h) #kernel gaussiano\n",
    "#KP = kernelPolinomial_(R, h) #kernel gaussiano\n",
    "KP = np.array([KernelPolynomial(r,h) for r in R]) # kernel polinomial\n",
    "\n",
    "KP_p = np.array([kernelPolynomial_p(r,h) for r in R]) #derivate of kernel polinomial \n",
    "\n",
    "W  = np.array([Wendland(r, h) for r in R])\n",
    "Wp  = np.array([Wendland_p(r, h) for r in R])\n"
   ]
  },
  {
   "cell_type": "code",
   "execution_count": 35,
   "metadata": {},
   "outputs": [
    {
     "data": {
      "image/png": "[encoded data removed]",
      "text/plain": [
       "<Figure size 720x288 with 2 Axes>"
      ]
     },
     "metadata": {
      "needs_background": "light"
     },
     "output_type": "display_data"
    }
   ],
   "source": [
    "plt.figure(figsize=(10,4))\n",
    "plt.subplot(121)\n",
    "#plt.plot(R, KG/np.max(KG), label = \"W gaussian\")\n",
    "plt.plot(R, W/np.max(W), \"k-\", label = \" Wendland\")\n",
    "plt.plot(R, Wp/np.min(Wp), label=\"Wendland Derivada\")\n",
    "plt.xlabel(\"R\",  fontsize=14)\n",
    "plt.ylabel(\"Kernel\", fontsize=14)\n",
    "plt.xticks(fontsize = 14)\n",
    "plt.yticks(fontsize = 14)\n",
    "plt.legend(fontsize = 8)\n",
    "\n",
    "plt.subplot(122)\n",
    "plt.plot(R, KP/np.max(KP),  label = \" W polynomial\")\n",
    "plt.plot(R, KP_p/np.min(KP_p),  label = \" W polynomial Derivate\")\n",
    "\n",
    "plt.xlabel(\"R\",  fontsize=14)\n",
    "plt.ylabel(\"Kernel\", fontsize=14)\n",
    "plt.xticks(fontsize = 14)\n",
    "plt.yticks(fontsize = 14)\n",
    "plt.legend(fontsize = 8)\n",
    "plt.show()"
   ]
  },
  {
   "cell_type": "markdown",
   "metadata": {},
   "source": [
    "# Navier Stokes equations\n",
    "\n",
    "## Continuity equation, mass conservation \n",
    "\n",
    "\n",
    "\\begin{equation}\n",
    "\\frac{\\mathrm{D} \\rho}{\\mathrm{D} t} = -\\rho \\nabla \\cdot \\vec{v}\n",
    "\\end{equation}\n",
    "\n",
    "$\\rho$ density and $v$ is the velocity \n",
    "\n",
    "## Momentum conservation \n",
    "\n",
    "## Euler description:\n",
    "\n",
    "\\begin{equation}\n",
    "\\frac{\\mathrm{D} \\vec{v}}{\\mathrm{D} t} = -\\frac{1}{\\rho} \\nabla P + \\frac{\\mu}{\\rho} \\nabla^2 \\vec{v} + \\vec{g}\n",
    "\\end{equation}\n",
    "\n",
    "$\\frac{D}{Dt}$ is the sutancial derivative for the velocity field $v$ , P is the preasure, g is the gravity and $\\mu$ is the viscosity. The term $\\nabla P$ is the force due to the change of the preasure, $\\mu \\nabla^2 v$ is the disipativy force, and $g$ has relation with weight of fluid. In the lagrangian description the navier stokes is for each particle in the fluid. \n",
    "\n",
    "## Lagrangian description:\n",
    "\n",
    "In the langrangian description each particle has a position  $\\vec{r}_i$ with velocity $\\vec{v}_i$, mass ${m}_i$ and density $\\rho_i$. The motion of equation for the all system are given by:\n",
    "\n",
    "\\begin{equation}\n",
    "\\frac{\\mathrm{d}\\vec{v}_i}{\\mathrm{d}t} = - \\sum_{j=1} ^N \\left( \\frac{P_j}{\\rho_j^2}+ \\frac{P_i}{\\rho_i^2} \\right)\\frac{\\vec{r}_{ij}}{r_ij}  \\frac{\\mathrm{d} W_{ij}}{\\mathrm{d}r_{ij}} + 2\\mu\\sum_{j=1}m_j \\frac{\\vec{v}_{ij}}{\\rho_i \\rho_j r_{ij}} + \\vec{g} + \\frac{1}{m_i} \\sum_{j=1}^{N} \\vec{F_{ij}}\n",
    "\\end{equation}\n",
    "\n",
    "\n",
    "Particle-particle interaction force for generate the surface tension and fluid weeting behavior.\n",
    "\n",
    "\\begin{equation}\n",
    "\\vec{F}_{ij} = s_{ij} \\left[ A_{ij} \\tilde{W}(r_{ij},h/2)- \\tilde{W}(r_{ij},h) \\right] \\frac{\\vec{r}_{ij}} {r_{ij}} \n",
    "\\end{equation}\n",
    "\n",
    "\n",
    "\n",
    "$s_{ij}$ surface tension, $A_{ij} $ is the Microscopic contact angle $A_{ff}=8$, $A_{sf}=24$. Where \n",
    "\n",
    "\n",
    "\n",
    "\\begin{equation}\n",
    " \\tilde{W}(R,h) =  \\left\\{ \\begin{array}{ll}\n",
    "         1-\\frac{3}{2}(\\frac{R}{h})^2+\\frac{3}{4}(\\frac{R}{h})^3 & \\mbox{si $ 0 <= R <= h $};\\\\\n",
    "         \\frac{1}{4}(2-\\frac{R}{h})^3 & \\mbox{si $h \\leqq R <= 2h$}.\\\\\n",
    " 0 & \\mbox{si $R > 2h$ }          \\end{array} \\right. \n",
    "\\end{equation} \n",
    "\n",
    "\n",
    "# PF-SPH discretization \n",
    "Pairwise force with smoth particle hydrodynamics\n",
    "\n",
    "## Density \n",
    "The density is obtained from the kernel summation \n",
    "\n",
    "\\begin{equation}\n",
    "\\rho_i=\\sum_{j=1}^{N} m_j W(\\vec{r}_{ij}, h)\n",
    "\\end{equation}\n",
    "\n",
    "\n",
    "## EOS equation \n",
    "\\begin{equation}\n",
    "P = Po \\left[ \\left( \\frac{\\rho}{\\rho_0}\\right)^2 -1 \\right]\n",
    "\\end{equation}\n",
    "\n",
    "\n",
    "where\n",
    "\n",
    "\\begin{equation}\n",
    "Po=\\frac{c^2\\rho_0}{\\gamma}\n",
    "\\end{equation}\n",
    "\n",
    "- The density of water is  $\\rho = 1\\times 10^3\\mathrm{kg/m^3}$,  the speed of the sound $c$ and the constante $\\gamma=3$. This values of $\\gamma$ is for aproximate the system to incomprensible fluid, in this case the ratio $\\delta \\rho/ \\rho< 0.3\\%$\n",
    "\n",
    "\n",
    "\n",
    "#$ Algoritm\n",
    "\n",
    "1. Generate particles in uniform cubi lattice with  red parameter $a= 0.5\\times \\mathrm{10}^{-4}$\n",
    "\n"
   ]
  },
  {
   "cell_type": "code",
   "execution_count": 36,
   "metadata": {},
   "outputs": [],
   "source": [
    "\n",
    "\n",
    "def eos(P0,  ρ, ρ0,γ):\n",
    "    \"\"\"\n",
    "    State equation, Batchelor and Monaghan\n",
    "    \"\"\"\n",
    "    return P0 * ((ρ / ρ0) **γ - 1)"
   ]
  },
  {
   "cell_type": "code",
   "execution_count": 37,
   "metadata": {},
   "outputs": [],
   "source": [
    "# Initial condition\n",
    "def init_positions(a, Np):\n",
    "    \"\"\"\n",
    "    Return the position r=(x, y) of particle \n",
    "    in regular grid for lagrangian representation\n",
    "    --Input--   \n",
    "    a: Red parameter\n",
    "    Np: Particles in one dimension, The total particle is Np*Np\n",
    "    --Output--\n",
    "    array with position x, y\n",
    "    \"\"\"\n",
    "    #Grid representation\n",
    "    x = np.arange(0, a*Np,a)\n",
    "    y = np.arange(0, a*Np,a)    \n",
    "    X,Y = np.meshgrid(x , y)  # Grid of particle in 2D \n",
    "    #Particle-particle representation\n",
    "    xp = X.flatten() #all position in x \n",
    "    yp = Y.flatten() #all position in y\n",
    "    pos_r = np.transpose(np.array([xp,yp]))\n",
    "    \n",
    "    return pos_r\n",
    "\n",
    "def init_velocity(Np, v0 = 0) : \n",
    "    \n",
    "    \"\"\"\n",
    "    Return the position v=(vx, vy) of particle \n",
    "    in regular grid for lagrangian representation\n",
    "    --Input--   \n",
    "    v0: magnitud of the distribution velocity    \n",
    "    Np: Particles in one dimension, The total particle is Np*Np\n",
    "    --Output--\n",
    "    array with position vx, vy\n",
    "    \"\"\"    \n",
    "    \n",
    "    vx = v0 * np.random.random(Np)\n",
    "    vy = v0 * np.random.random(Np)\n",
    "    vX, vY = np.meshgrid(vx, vy)\n",
    "    vxp = vX.flatten() #position \n",
    "    vyp = vY.flatten() #posicion\n",
    "    vel = np.transpose(np.array([vxp, vyp]))\n",
    "    return vel\n",
    "\n",
    "\n",
    "def force_ij(Rij, R, h,sij=1, Aij=1):\n",
    "    \"\"\"\n",
    "    Calculation the force\n",
    "    --Input--  \n",
    "    Rij   : Vector ΔR_ij= (Δx,Δy,Δz)_ij \n",
    "    R     : Magnitud of vector |ΔR|\n",
    "    h     : Compact support\n",
    "    sij   : Magnitud of surface tension, \n",
    "            s_ff, fluid-fluid interaction\n",
    "            s_sf, Fluid-solid intetaraction \n",
    "    Aij   : Microscopic static contact angle\n",
    "      \n",
    "    --Output--:\n",
    "    \n",
    "    \"\"\"\n",
    "    #Calculo del kernel de la fuerza\n",
    "    Wij_1 = KernelPolynomial(R, 0.5*h)\n",
    "    Wij_2 = KernelPolynomial(R, h)\n",
    "    #Cálculo de la fuerza\n",
    "    Fij = sij * ( Aij * Wij_1 - Wij_2)\n",
    "    return Fij"
   ]
  },
  {
   "cell_type": "code",
   "execution_count": 38,
   "metadata": {},
   "outputs": [],
   "source": [
    "def compute_force_i(i, pos_r, vel, ρ, mass ):\n",
    "    \"\"\"\n",
    "    --Input--\n",
    "    i  :i-th particle\n",
    "    pos: vector pos_r\n",
    "    vel: vector velocity\n",
    "    ρ   :density \n",
    "    P   : Preasure\n",
    "    mass   : mass\n",
    "    \n",
    "    --Output--\n",
    "    dvdt, ρ, P\n",
    "    Force the i-th particle\n",
    "    \n",
    "    \"\"\"\n",
    "    g     = np.array([0, 0])\n",
    "    R     = np.zeros((Nt,Nt))\n",
    "       \n",
    "    densidad = 0\n",
    "    Fij = 0\n",
    "    T2  = 0\n",
    "    T1  = 0\n",
    "    P     = eos(P0,  ρ, ρ0,γ) #initial Preasure\n",
    "        \n",
    "    for j in range(0, Nt):\n",
    "        if(i != j):\n",
    "            \n",
    "            Rij = pos_r[j] - pos_r[i] #vector\n",
    "            R[i,j] = np.linalg.norm(Rij)         #magnitude\n",
    "            vij    = vel[j] - vel[i]        #vector\n",
    "            Kernel = Wendland(R[i,j],h)\n",
    "            derivadaKernel = Wendland_p(R[i,j],h)\n",
    "            #PairWise \n",
    "            Fij += force_ij(Rij, R[i,j], h) * (Rij / R[i,j])\n",
    "            #Density-velocity termn\n",
    "            T2  += mass[j] / (R[i,j] * ρ[i] * ρ[j])  * derivadaKernel * vij \n",
    "            #Preasure term\n",
    "            T1  += mass[j] *  (P[j] / ρ[j] ** 2 + P[i] / ρ[i] ** 2) * derivadaKernel * (Rij/R[i,j]) \n",
    "            \n",
    "            densidad += mass[j] * Wendland(R[i,j], h) \n",
    "            #dρdt[j]  += mass[j]*(vel[i]-vel[j])*Kernel\n",
    "            #densidad += mass[j] * np.dot(vel[i] - vel[j], Kernel * (Rij / R[i,j]))\n",
    "            \n",
    "    dvdt = Fij / mass[i] + g + 2 * μ * T2 - T1\n",
    "    ρ    = densidad\n",
    "    P    = eos(P0,  ρ, ρ0,γ)\n",
    "    return  dvdt,ρ, P \n"
   ]
  },
  {
   "cell_type": "code",
   "execution_count": 39,
   "metadata": {},
   "outputs": [],
   "source": [
    "Np = 20     #Particle along x-axis\n",
    "Nt = Np ** 2 #Total particles\n",
    "\n",
    "#======================\n",
    "# Parameter \n",
    "#======================\n",
    "ρ0  = 1000              # kg/m^3    Water density\n",
    "μ   = 0.001296          # Pa,s      Viscosity\n",
    "m0  = (1e-3)**2/Nt      # 1.25E-10 #kg mass\n",
    "h   = 1.71E-4           # step\n",
    "c   = 4.5               # m/s speed of sound   \n",
    "gravity  = 9.81         # m/s^2  gravity\n",
    "Aij = 8                # Aff=8, Asf=24\n",
    "sij = 1\n",
    "γ   = 3                 #\n",
    "P0  = c ** 2 * ρ0 / γ   #\n",
    "\n",
    "a     = 1 * 0.5E-4       # Red parameter\n",
    "\n",
    "pos_r = init_positions(a, Np)\n",
    "vel   = init_velocity(Np)\n",
    "#Presion Condiciones iniciales\n"
   ]
  },
  {
   "cell_type": "code",
   "execution_count": 40,
   "metadata": {},
   "outputs": [
    {
     "data": {
      "text/plain": [
       "[<matplotlib.lines.Line2D at 0x2569937c430>]"
      ]
     },
     "execution_count": 40,
     "metadata": {},
     "output_type": "execute_result"
    },
    {
     "data": {
      "image/png": "[encoded data removed]",
      "text/plain": [
       "<Figure size 432x288 with 1 Axes>"
      ]
     },
     "metadata": {
      "needs_background": "light"
     },
     "output_type": "display_data"
    }
   ],
   "source": [
    "plt.plot(pos_r[:,0],pos_r[:,1], \"ro\")"
   ]
  },
  {
   "cell_type": "code",
   "execution_count": 41,
   "metadata": {},
   "outputs": [],
   "source": [
    "#g     = np.array([0, gravity])\n",
    "mass  = m0 * np.ones(Nt) # mass\n",
    "ρ     = ρ0 * np.ones(Nt) # density for each particle \n",
    "#P     = eos(P0,  ρ, ρ0,γ) #initial Preasure\n"
   ]
  },
  {
   "cell_type": "code",
   "execution_count": 66,
   "metadata": {},
   "outputs": [],
   "source": [
    "#Force for each particle.\n",
    "def force_per_particle(Nt, pos_r, vel, ρ, mass):\n",
    "    \"\"\"\n",
    "    Compute the force for each particle\n",
    "    --Input--\n",
    "    pos_r= vector with the position of particles. Dimension(Nt,2)\n",
    "    vel  = vector with the velocity of particles. Dimension(Nt,2)\n",
    "    ρ    = vector with the density of particle.   Dimension(Nt,1)\n",
    "    mass = vector the mass\n",
    "   \n",
    "    --Output--\n",
    "    dvdt = vector with the aceleration.          Dimension(Nt, 2)\n",
    "    ρ_   = Vector of density for each particle.  Dimension(Nt, 2)\n",
    "    P_   = Preasure for each particle.           Dimension(Nt, 1)\n",
    "    \"\"\"\n",
    "#    drdt = np.zeros((Nt,2))\n",
    "    dvdt = np.zeros((Nt,2))\n",
    "    ρ_   = np.zeros(Nt)\n",
    "    P_   = np.zeros(Nt)\n",
    "\n",
    "    for i in range(0, Nt):\n",
    "        dvdt[i], ρ_[i], P_[i] = compute_force_i(i, pos_r, vel, ρ, mass )\n",
    "    return dvdt, ρ_, P_\n",
    "   "
   ]
  },
  {
   "cell_type": "code",
   "execution_count": 67,
   "metadata": {},
   "outputs": [],
   "source": [
    "dvdt, ρ_, P_ = force_per_particle(Nt, pos_r, vel, ρ, mass)"
   ]
  },
  {
   "cell_type": "code",
   "execution_count": 68,
   "metadata": {},
   "outputs": [
    {
     "data": {
      "text/plain": [
       "<matplotlib.quiver.Quiver at 0x256991fd670>"
      ]
     },
     "execution_count": 68,
     "metadata": {},
     "output_type": "execute_result"
    },
    {
     "data": {
      "image/png": "[encoded data removed]",
      "text/plain": [
       "<Figure size 432x288 with 1 Axes>"
      ]
     },
     "metadata": {
      "needs_background": "light"
     },
     "output_type": "display_data"
    }
   ],
   "source": [
    "plt.quiver(pos_r[:,0], pos_r[:,1], dvdt[:,0], dvdt[:,1])"
   ]
  },
  {
   "cell_type": "markdown",
   "metadata": {},
   "source": [
    "# Velocity Verlet integration\n",
    "- \n",
    "\\begin{equation}\n",
    "v_i \\left(t+\\frac{1}{2}\\Delta t\\right )  = v_i +\\frac{1}{2}a_i(t)\n",
    "\\end{equation}\n",
    "\n",
    "- \n",
    "\\begin{equation}\n",
    "\\bar{v}_i \\left(t + \\Delta t\\right )  = v_i +  a_i(t)\n",
    "\\end{equation}\n",
    "\n",
    "-\n",
    "\\begin{equation}\n",
    "a_i(t+\\Delta t) = \\frac{\\bar{v}_i (t+ \\Delta t) -v_i(t + 0.5\\Delta t)}{0.5 \\Delta t}\n",
    "\\end{equation}\n",
    "\n",
    "- \n",
    "\n",
    "\n",
    "\n",
    "\n",
    "\n",
    "\n"
   ]
  },
  {
   "cell_type": "code",
   "execution_count": 69,
   "metadata": {},
   "outputs": [],
   "source": [
    "dt     = 0.25 * h / (3 * c * 100)\n",
    "time   = np.arange(0, 1E-6, dt/2)\n",
    "n      = len(time) \n"
   ]
  },
  {
   "cell_type": "code",
   "execution_count": 70,
   "metadata": {},
   "outputs": [],
   "source": [
    "#Inicialization of variables and build array\n",
    "v_medio   = np.zeros((n, Nt, 2))\n",
    "v_gorro   = np.zeros((n, Nt, 2))\n",
    "ρ_medio   = np.zeros((n, Nt))\n",
    "r         = np.zeros((n, Nt, 2))\n",
    "v         = np.zeros((n, Nt, 2))\n",
    "a         = np.zeros((n, Nt, 2))\n",
    "_ρ_       = np.zeros((n, Nt))\n",
    "_P_       = np.zeros((n, Nt))\n",
    "velocidad = np.zeros((n, Nt, 2))\n",
    "\n",
    "\n",
    "#Initial values/\n",
    "r[0]    = pos_r \n",
    "v[0]    = vel\n",
    "a[0]    = dvdt\n",
    "_ρ_[0]  = ρ_\n",
    "_P_[0]  = P_"
   ]
  },
  {
   "cell_type": "code",
   "execution_count": 71,
   "metadata": {},
   "outputs": [],
   "source": [
    "k=40 #deberia ser n"
   ]
  },
  {
   "cell_type": "code",
   "execution_count": 72,
   "metadata": {},
   "outputs": [
    {
     "name": "stderr",
     "output_type": "stream",
     "text": [
      "loading ...:  55%|█████████████████████████████████████▉                               | 22/40 [00:43<00:38,  2.14s/it]"
     ]
    },
    {
     "name": "stdout",
     "output_type": "stream",
     "text": [
      "Unexpected error: <class 'RuntimeWarning'>\n",
      "20\n"
     ]
    }
   ],
   "source": [
    "loop = tqdm(total=k, position=0, leave=False)\n",
    "\n",
    "for i in range(0, k, 2):\n",
    "    loop.set_description(\"loading ...\".format(i))\n",
    "    loop.update(2)\n",
    "    \n",
    "    \n",
    "    v[i + 1] = v[i] + dt * 0.5 * a[i]\n",
    "\n",
    "    v_gorro[i + 2] = v[i] + dt * 1.0 * a[i]\n",
    "\n",
    "    ρ_medio[i + 1] = _ρ_[i]   #+0.5*dρdt\n",
    "\n",
    "    r[i + 2]       = r[i] + dt * v[i + 1] \n",
    "    try:\n",
    "       \n",
    "        a[i+2],_ρ_[i+2],_P_[i+2] = force_per_particle(Nt, r[i + 2], v_gorro[i + 2], ρ_medio[i + 1], mass)\n",
    "    except:\n",
    "        print(\"Unexpected error:\", sys.exc_info()[0]) \n",
    "        print(i)\n",
    "        break\n",
    "    v[i + 2] = v[i + 1] + 0.5 * dt * a[i+2] \n",
    "     "
   ]
  },
  {
   "cell_type": "code",
   "execution_count": 73,
   "metadata": {},
   "outputs": [
    {
     "data": {
      "text/plain": [
       "<matplotlib.quiver.Quiver at 0x25698f304c0>"
      ]
     },
     "execution_count": 73,
     "metadata": {},
     "output_type": "execute_result"
    },
    {
     "data": {
      "image/png": "[encoded data removed]",
      "text/plain": [
       "<Figure size 432x288 with 1 Axes>"
      ]
     },
     "metadata": {
      "needs_background": "light"
     },
     "output_type": "display_data"
    }
   ],
   "source": [
    "k=20\n",
    "plt.quiver(r[k][:,0],r[k][:,1], a[k][:,0], a[k][:,1])"
   ]
  }
 ],
 "metadata": {
  "kernelspec": {
   "display_name": "Python 3",
   "language": "python",
   "name": "python3"
  },
  "language_info": {
   "codemirror_mode": {
    "name": "ipython",
    "version": 3
   },
   "file_extension": ".py",
   "mimetype": "text/x-python",
   "name": "python",
   "nbconvert_exporter": "python",
   "pygments_lexer": "ipython3",
   "version": "3.8.3"
  }
 },
 "nbformat": 4,
 "nbformat_minor": 4
}
