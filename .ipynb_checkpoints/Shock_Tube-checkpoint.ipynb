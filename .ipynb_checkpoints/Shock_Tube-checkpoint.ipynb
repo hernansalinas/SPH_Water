{
 "cells": [
  {
   "cell_type": "code",
   "execution_count": 324,
   "metadata": {},
   "outputs": [
    {
     "data": {
      "text/plain": [
       "'\\nThis program simulated the shock tube with sph \\n\\n\\n    - Odeint integration\\n    - Problems with Verlet integration\\n    \\nAutor: Hernan Salinas \\nDate_update : 2/21/2021\\n\\nReference: https://core.ac.uk/download/pdf/81947104.pdf\\nScience Direct 14 (2011) 2743–2750\\nRef : Computational physics UdeA, \\n'"
      ]
     },
     "execution_count": 324,
     "metadata": {},
     "output_type": "execute_result"
    }
   ],
   "source": [
    "import numpy as np\n",
    "import matplotlib.pylab as plt\n",
    "import seaborn as sb\n",
    "from scipy.spatial.distance import cdist\n",
    "from scipy.integrate import odeint\n",
    "import warnings\n",
    "import sys\n",
    "from tqdm import tqdm\n",
    "from ipywidgets import interact\n",
    "warnings.simplefilter('error')\n",
    "\n",
    "\n",
    "\"\"\"\n",
    "This program simulated the shock tube with sph \n",
    "\n",
    "\n",
    "    - Odeint integration\n",
    "    - Problems with Verlet integration\n",
    "    \n",
    "Autor: Hernan Salinas \n",
    "Date_update : 2/21/2021\n",
    "\n",
    "Reference: https://core.ac.uk/download/pdf/81947104.pdf\n",
    "Science Direct 14 (2011) 2743–2750\n",
    "Ref : Computational physics UdeA, \n",
    "\"\"\"\n"
   ]
  },
  {
   "cell_type": "markdown",
   "metadata": {},
   "source": [
    "# Problems, the shock tube\n",
    "Shock tube in 1 Dimension without viscous streess and heat.  The shock tube is a long straight tube filled with gas, which is separated by a membrane in two parts with different pressures and densities but are individually in thermodynamic equilibrium. \n",
    "\n",
    "When the membrane is taken away the following are produce:\n",
    "- A schock wave-moves into region of lower density \n",
    "- A rarefaction wave(reduction in density)-moves into region of high density\n",
    "- A contact discontinuity-forms in center and travels inton low density region behind the shock\n",
    "\n",
    "\n",
    "Parameter of the regions in the tube:\n",
    "### left region \n",
    "$x \\leq 0$, $\\rho =    1$, $v=0$, $e = 2.500$, $p=1$ $ \\Delta x=0.001875 $\n",
    "\n",
    "### right region \n",
    "$x > 0$, $\\rho = 0.25$, $v=0$, $e = 1.795$, $p=0.1795$ $ \\Delta x=0.0075 $\n",
    "\n",
    "Parameter:\n",
    "- $\\rho$ : Density\n",
    "- P : Pressure\n",
    "- e : Internal energy\n",
    "- v : velocity\n",
    "- $\\Delta x$ : particle spacing\n",
    "- m : 0.001875.\n",
    "- Np: 320 distributed in the hight density region \n",
    "- Np: 80 in the low density region \n",
    "- [-0.6------------------0.0-----------------------0.6]\n",
    "\n",
    "\n",
    "We use the following equation of state:\n",
    "\n",
    "- $p=(\\gamma-1)\\rho e$\n",
    "- $c = \\sqrt{(\\gamma-1)e}$\n",
    "\n",
    "with $\\gamma = 1.4$, the time step to $0.005$ and run the simulation for 40 time steps\n",
    "\n",
    "\n",
    "## Navier Stokes equation \n",
    "\n",
    "- Continuity equation\n",
    "\\begin{equation}\n",
    "\\frac{D \\rho}{Dt} = \\sum_{j=1}^N m_j (v_j-v_i)\\cdot \\nabla_i W_{ij}\n",
    "\\end{equation}\n",
    "\n",
    "or \n",
    "\n",
    "\\begin{equation}\n",
    "\\rho_i = \\sum_{j=1}^N m_j W_{ij}\n",
    "\\end{equation}\n",
    "\n",
    "- Momentum equation  \n",
    "\\begin{equation}\n",
    "\\frac{D v_i}{Dt} = \\sum_{j=1}^N m_j \\left( \\frac{P_i}{\\rho_i^2}+ \\frac{P_j}{\\rho_j^2}\\right) \\nabla_i W_{ij}\n",
    "\\end{equation}\n",
    "\n",
    "\n",
    "- Internal Energy \n",
    "\\begin{equation}\n",
    "\\frac{D e_i}{Dt} = \\sum_{j=1}^N m_j \\left( \\frac{P_i}{\\rho_i^2}+ \\frac{P_j}{\\rho_j^2} + \\Pi_{ij} \\right) (v_i-v_j) \\cdot \\nabla_i W_{ij}\\nabla_i W_{ij}\n",
    "\\end{equation}\n",
    "\n",
    "- Velocity\n",
    "\\begin{equation}\n",
    "\\frac{D x_i}{Dt} = v_i\n",
    "\\end{equation}\n",
    "\n",
    "\n",
    "\n"
   ]
  },
  {
   "cell_type": "markdown",
   "metadata": {},
   "source": [
    "## Kernel and its derivative\n",
    "\n",
    "### Cubic spline\n",
    "\n",
    "\\begin{equation}\n",
    " W(R,h)=\\alpha_d \\left\\{ \\begin{array}{ll}\n",
    "         \\frac{2}{3} - q^2 +\\frac{1}{2}q^3 & \\mbox{si $ 0 \\leq q < 1 $};\\\\\n",
    "         \\frac{1}{6}(2 -q)^3 & \\mbox{si $1 \\leq q < 2$}.\\\\\n",
    " 0 & \\mbox{si $q \\geq 2$ }          \\end{array} \\right. \n",
    "\\end{equation}\n",
    "\n",
    "\\begin{equation}\n",
    " W'(R,h)=\\alpha_d \\left\\{ \\begin{array}{ll}\n",
    "         (-2 + \\frac{3}{2}q)\\frac{d\\bf{x}}{h^2} & \\mbox{si $ 0 \\leq q < 1 $};\\\\\n",
    "         \\frac{1}{2}(2 -q)^2\\frac{d\\bf{x}}{hr} & \\mbox{si $1 \\leq q < 2$}.\\\\\n",
    " 0 & \\mbox{si $q \\geq 2$ }          \\end{array} \\right. \n",
    "\\end{equation}\n",
    "\n",
    "\n",
    "- $q= \\frac{r_{ij}}{h}=\\frac{|\\vec{r}_i-\\vec{r}_j|}{h}$\n",
    "- In 1D $\\alpha_d = 1/h $\n",
    "- In 2D $\\alpha_d = 15/(7\\pi h^2) $\n",
    "- In 3D $\\alpha_d = 3/(2\\pi h^3) $\n"
   ]
  },
  {
   "cell_type": "code",
   "execution_count": 325,
   "metadata": {},
   "outputs": [],
   "source": [
    "def KernelPolynomial(R,h):\n",
    "    \"\"\"\n",
    "    Input: Radii of particle and h \n",
    "    Output: Kernel W\n",
    "    \"\"\" \n",
    "    \n",
    "    \n",
    "    W0 = 2./(3*h) #1.0# (np.pi * 4 * h** 3) ** (-1)\n",
    "    q = R/h\n",
    "    W = 0\n",
    "    \n",
    "    if 0 <= q <  1:\n",
    "        \n",
    "        W = 1-3/2 *q**2 *( 1- q/2)\n",
    "    \n",
    "    elif  1 <= q < 2:\n",
    "        \n",
    "        W =  1./4* (2 - q ) ** 3 #(1./4) * (2 - ( q )) ** 3\n",
    "    \n",
    "    elif q >= 2:\n",
    "        \n",
    "        W = 0\n",
    "        \n",
    "    else:\n",
    "        print(\"Error kernel Polynomial!\",R)\n",
    "    \n",
    "    return W\n",
    "\n",
    "\n",
    "def KernelPolynomial_p(R, h):\n",
    "    #REvisar si es utlizado\n",
    "      \n",
    "    W0 = 2./(3*h**2)# (np.pi * 4 * h** 3) ** (-1)\n",
    "    #W = 0\n",
    "    q = R/h\n",
    "    \n",
    "    if 0. <= q <  1:\n",
    "        \n",
    "        W = -3 * q + 9./4* q**3  #-(3./h) * q + (9./(4*h)) * q **2\n",
    "    \n",
    "    elif  1 <= q < 2:\n",
    "        \n",
    "        W = - 3./4 *( 2 - q) **2#-(3./(4*h)) * (2 - ( q )) ** 2\n",
    "    \n",
    "    elif q >= 2:\n",
    "        \n",
    "        W = 0\n",
    "        \n",
    "    else:\n",
    "        print(\"Error kernel Polynomial!\",R)\n",
    "    \n",
    "    return W\n",
    "    \n",
    "    \n",
    "    \n"
   ]
  },
  {
   "cell_type": "code",
   "execution_count": 326,
   "metadata": {},
   "outputs": [
    {
     "data": {
      "image/png": "[encoded data removed]",
      "text/plain": [
       "<Figure size 432x288 with 1 Axes>"
      ]
     },
     "metadata": {
      "needs_background": "light"
     },
     "output_type": "display_data"
    }
   ],
   "source": [
    "h    = 0.1\n",
    "step = h/1000\n",
    "R    = np.arange(0, 2*h, step)\n",
    "\n",
    "#KG = KernelGaussian(R, h) #kernel gaussiano\n",
    "#KP = kernelPolinomial_(R, h) #kernel gaussiano\n",
    "KP = np.array([KernelPolynomial(r,h) for r in R]) # kernel polinomial\n",
    "\n",
    "KP_p = np.array([KernelPolynomial_p(r,h) for r in R]) #derivate of kernel polinomial \n",
    "\n",
    "plt.figure(figsize=(6,4))\n",
    "plt.plot(R, KP/np.max(KP),  label = \" W polynomial\")\n",
    "plt.plot(R, KP_p/np.min(KP_p),  label = \" W polynomial Derivate\")\n",
    "plt.xlabel(\"R\",  fontsize=14)\n",
    "plt.ylabel(\"Kernel\", fontsize=14)\n",
    "plt.xticks(fontsize = 14)\n",
    "plt.yticks(fontsize = 14)\n",
    "plt.legend(fontsize = 8)\n",
    "plt.show()"
   ]
  },
  {
   "cell_type": "code",
   "execution_count": 327,
   "metadata": {},
   "outputs": [],
   "source": [
    "def eos(ρ,e,γ):\n",
    "    return (γ - 1) * ρ * e"
   ]
  },
  {
   "cell_type": "code",
   "execution_count": 328,
   "metadata": {},
   "outputs": [],
   "source": [
    "#Analizar la energia interna y su convergencia\n",
    "def compute_force_i(i, pos_r, vel, ρ, e,mass,h,NP):\n",
    "    \"\"\"\n",
    "    --Input--\n",
    "    i  :i-th particle\n",
    "    pos: vector pos_r\n",
    "    vel: vector velocity\n",
    "    ρ   :density \n",
    "    P   : Preasure\n",
    "    mass   : mass\n",
    "    \n",
    "    --Output--\n",
    "    dvdt, ρ, P\n",
    "    Force the i-th particle\n",
    "    \n",
    "    \"\"\"\n",
    "    vv      = 0\n",
    "    ener_e  = 0\n",
    "    density = 0\n",
    "    P = eos(ρ, e, γ)\n",
    "    Pi = eos(ρ[i], e[i],γ) #initial Preasure\n",
    "    \n",
    "    for j in range(0, NP):\n",
    "        if(i != j):            \n",
    "            Pj     = eos(ρ[j], e[j], γ) #initial Preasure\n",
    "            Πij    = 0\n",
    "            hij    = (h[i] + h[j]) * 0.5                    \n",
    "            Rij    = pos_r[j] - pos_r[i] #vector            \n",
    "            kernel = KernelPolynomial(abs(Rij), hij)\n",
    "            derivadaKernel = KernelPolynomial_p(abs(Rij), hij)    \n",
    "            vij    = vel[i] - vel[j]        #vector           \n",
    "            #Preasure term\n",
    "            force_ = mass[j] *  (Pj / ρ[j] ** 2 + Pi / ρ[i] ** 2 + Πij)\n",
    "            \n",
    "            vv     -=  force_ * derivadaKernel \n",
    "            ener_e +=  force_ * vij * derivadaKernel\n",
    "            #density\n",
    "            density += mass[j] * vij * (derivadaKernel)\n",
    "            \n",
    "            \n",
    "    dvdt = vv\n",
    "    dρdt = density\n",
    "    dedt = ener_e\n",
    "\n",
    "    return  dvdt,dρdt,dedt\n"
   ]
  },
  {
   "cell_type": "code",
   "execution_count": 329,
   "metadata": {},
   "outputs": [],
   "source": [
    "def force_per_particle(pos_r, vel, ρ, e,mass, h,NP):\n",
    "    dvdt1 = np.zeros(NP)\n",
    "    dedt1 = np.zeros(NP)\n",
    "    dρdt1 = np.zeros(NP)\n",
    "    for i in range(0, NP):\n",
    "        dvdt1[i], dρdt1[i],dedt1[i] = compute_force_i(i, pos_r, vel, ρ,e, mass,h,NP)\n",
    "    dxdt1 = vel\n",
    "    return dxdt1, dvdt1,dρdt1,dedt1"
   ]
  },
  {
   "cell_type": "markdown",
   "metadata": {},
   "source": [
    "#  Velocity Verlet integration\n",
    " "
   ]
  },
  {
   "cell_type": "code",
   "execution_count": 330,
   "metadata": {},
   "outputs": [],
   "source": [
    "#Verlet\n",
    "#Parameter \n",
    "ρ1 = 1.0\n",
    "ρ2 = 0.25\n",
    "e1 = 2.5\n",
    "e2 = 1.795\n",
    "γ  = 1.4 \n",
    "L  = 1.2 #unit\n",
    "\n",
    "\n",
    "#Position of particles\n",
    "N1=320\n",
    "N2=80\n",
    "\n",
    "#Particles position\n",
    "x_left  = np.linspace(-0.6,0.0, N1)\n",
    "x_right = np.linspace(0.0,0.6, N2)\n",
    "\n",
    "h_left  = (1.2/N1) *np.ones(N1)\n",
    "h_right = (1.2/N2) *np.ones(N2)\n",
    "\n",
    "e_left  = e1*np.ones(N1)\n",
    "e_right = e2*np.ones(N2)\n",
    "\n",
    "ρ_left = ρ1*np.ones(N1)\n",
    "ρ_right= ρ2*np.ones(N2)\n",
    "\n",
    "pos = np.concatenate([x_left,x_right])\n",
    "h = np.concatenate([h_left,h_right])\n",
    "e = np.concatenate([e_left,e_right])\n",
    "ρ = np.concatenate([ρ_left,ρ_right])\n",
    "\n",
    "\n",
    "NP=len(pos)\n",
    "m0 = (ρ1 + ρ2) * L / NP\n",
    "mass = m0*np.ones(NP)/2\n",
    "\n",
    "vo = 1E-7\n",
    "vel = vo*np.ones(NP)"
   ]
  },
  {
   "cell_type": "code",
   "execution_count": 331,
   "metadata": {},
   "outputs": [],
   "source": [
    "dt = 5E-2\n",
    "T   = np.arange(0,5, dt/2)\n",
    "len(T)\n",
    "T = T[0:40]\n",
    "n = len(T)\n"
   ]
  },
  {
   "cell_type": "code",
   "execution_count": 332,
   "metadata": {},
   "outputs": [],
   "source": [
    "dxdt, dvdt,dρdt,dedt = force_per_particle(pos, vel, ρ, e,mass, h,NP)\n",
    "#dxdt, dvdt,dρdt,dedt = force_per_particle(x, v, ρ, e,mass, h,NP)"
   ]
  },
  {
   "cell_type": "code",
   "execution_count": 333,
   "metadata": {},
   "outputs": [],
   "source": [
    "#Inicialization of variables and build array\n",
    "v_medio   = np.zeros((n, NP))\n",
    "v_gorro   = np.zeros((n, NP))\n",
    "ρ_medio   = np.zeros((n, NP))\n",
    "e_medio   = np.zeros((n, NP))\n",
    "\n",
    "ρ_gorro   = np.zeros((n, NP))\n",
    "e_gorro   = np.zeros((n, NP))\n",
    "\n",
    "r         = np.zeros((n, NP))\n",
    "v         = np.zeros((n, NP))\n",
    "a         = np.zeros((n, NP))\n",
    "_ρ_       = np.zeros((n, NP))\n",
    "_e_       = np.zeros((n, NP))\n",
    "ρ_p       = np.zeros((n, NP))\n",
    "e_p       = np.zeros((n, NP))\n",
    "\n",
    "velocidad = np.zeros((n, NP))\n",
    "\n",
    "#Initial values/\n",
    "r[0]    = pos\n",
    "v[0]    = vel\n",
    "a[0]    = dvdt\n",
    "_ρ_[0]  = ρ\n",
    "_e_[0]  = e\n",
    "\n",
    "ρ_p[0] = dρdt\n",
    "e_p[0] = dedt\n",
    "#_P_[0]  = P_"
   ]
  },
  {
   "cell_type": "code",
   "execution_count": 342,
   "metadata": {},
   "outputs": [
    {
     "name": "stderr",
     "output_type": "stream",
     "text": [
      "loading ...:   0%|                                                                              | 0/38 [00:00<?, ?it/s]"
     ]
    },
    {
     "ename": "RuntimeWarning",
     "evalue": "invalid value encountered in true_divide",
     "output_type": "error",
     "traceback": [
      "\u001b[1;31m---------------------------------------------------------------------------\u001b[0m",
      "\u001b[1;31mRuntimeWarning\u001b[0m                            Traceback (most recent call last)",
      "\u001b[1;32m<ipython-input-342-fab69d405f6f>\u001b[0m in \u001b[0;36m<module>\u001b[1;34m\u001b[0m\n\u001b[0;32m     17\u001b[0m \u001b[1;33m\u001b[0m\u001b[0m\n\u001b[0;32m     18\u001b[0m     \u001b[0mr\u001b[0m\u001b[1;33m[\u001b[0m\u001b[0mi\u001b[0m \u001b[1;33m+\u001b[0m \u001b[1;36m2\u001b[0m\u001b[1;33m]\u001b[0m       \u001b[1;33m=\u001b[0m \u001b[0mr\u001b[0m\u001b[1;33m[\u001b[0m\u001b[0mi\u001b[0m\u001b[1;33m]\u001b[0m \u001b[1;33m+\u001b[0m \u001b[0mdt\u001b[0m \u001b[1;33m*\u001b[0m \u001b[0mv\u001b[0m\u001b[1;33m[\u001b[0m\u001b[0mi\u001b[0m \u001b[1;33m+\u001b[0m \u001b[1;36m1\u001b[0m\u001b[1;33m]\u001b[0m\u001b[1;33m\u001b[0m\u001b[1;33m\u001b[0m\u001b[0m\n\u001b[1;32m---> 19\u001b[1;33m     \u001b[0mdxdt\u001b[0m\u001b[1;33m,\u001b[0m \u001b[0ma\u001b[0m\u001b[1;33m[\u001b[0m\u001b[0mi\u001b[0m\u001b[1;33m+\u001b[0m\u001b[1;36m2\u001b[0m\u001b[1;33m]\u001b[0m\u001b[1;33m,\u001b[0m \u001b[0mρ_p\u001b[0m\u001b[1;33m[\u001b[0m\u001b[0mi\u001b[0m\u001b[1;33m+\u001b[0m\u001b[1;36m2\u001b[0m\u001b[1;33m]\u001b[0m\u001b[1;33m,\u001b[0m \u001b[0me_p\u001b[0m\u001b[1;33m[\u001b[0m\u001b[0mi\u001b[0m\u001b[1;33m+\u001b[0m\u001b[1;36m2\u001b[0m\u001b[1;33m]\u001b[0m \u001b[1;33m=\u001b[0m \u001b[0mforce_per_particle\u001b[0m\u001b[1;33m(\u001b[0m\u001b[0mr\u001b[0m\u001b[1;33m[\u001b[0m\u001b[0mi\u001b[0m\u001b[1;33m+\u001b[0m\u001b[1;36m2\u001b[0m\u001b[1;33m]\u001b[0m\u001b[1;33m,\u001b[0m\u001b[0mv_gorro\u001b[0m\u001b[1;33m[\u001b[0m\u001b[0mi\u001b[0m\u001b[1;33m+\u001b[0m\u001b[1;36m2\u001b[0m\u001b[1;33m]\u001b[0m\u001b[1;33m,\u001b[0m\u001b[0mρ_gorro\u001b[0m\u001b[1;33m,\u001b[0m\u001b[0mρ_gorro\u001b[0m\u001b[1;33m,\u001b[0m\u001b[0mmass\u001b[0m\u001b[1;33m,\u001b[0m\u001b[0mh\u001b[0m\u001b[1;33m,\u001b[0m\u001b[0mNP\u001b[0m\u001b[1;33m)\u001b[0m\u001b[1;33m\u001b[0m\u001b[1;33m\u001b[0m\u001b[0m\n\u001b[0m\u001b[0;32m     20\u001b[0m \u001b[1;33m\u001b[0m\u001b[0m\n\u001b[0;32m     21\u001b[0m     \u001b[0m_ρ_\u001b[0m\u001b[1;33m[\u001b[0m\u001b[0mi\u001b[0m \u001b[1;33m+\u001b[0m \u001b[1;36m2\u001b[0m\u001b[1;33m]\u001b[0m \u001b[1;33m=\u001b[0m \u001b[0m_ρ_\u001b[0m\u001b[1;33m[\u001b[0m\u001b[0mi\u001b[0m \u001b[1;33m+\u001b[0m \u001b[1;36m1\u001b[0m\u001b[1;33m]\u001b[0m \u001b[1;33m+\u001b[0m \u001b[1;36m0.5\u001b[0m\u001b[1;33m*\u001b[0m\u001b[0mdt\u001b[0m\u001b[1;33m*\u001b[0m\u001b[0mρ_p\u001b[0m\u001b[1;33m[\u001b[0m\u001b[0mi\u001b[0m\u001b[1;33m+\u001b[0m\u001b[1;36m2\u001b[0m\u001b[1;33m]\u001b[0m \u001b[1;31m#+ 0.5*ρ_p[i]\u001b[0m\u001b[1;33m\u001b[0m\u001b[1;33m\u001b[0m\u001b[0m\n",
      "\u001b[1;32m<ipython-input-329-642fc96695fe>\u001b[0m in \u001b[0;36mforce_per_particle\u001b[1;34m(pos_r, vel, ρ, e, mass, h, NP)\u001b[0m\n\u001b[0;32m      4\u001b[0m     \u001b[0mdρdt1\u001b[0m \u001b[1;33m=\u001b[0m \u001b[0mnp\u001b[0m\u001b[1;33m.\u001b[0m\u001b[0mzeros\u001b[0m\u001b[1;33m(\u001b[0m\u001b[0mNP\u001b[0m\u001b[1;33m)\u001b[0m\u001b[1;33m\u001b[0m\u001b[1;33m\u001b[0m\u001b[0m\n\u001b[0;32m      5\u001b[0m     \u001b[1;32mfor\u001b[0m \u001b[0mi\u001b[0m \u001b[1;32min\u001b[0m \u001b[0mrange\u001b[0m\u001b[1;33m(\u001b[0m\u001b[1;36m0\u001b[0m\u001b[1;33m,\u001b[0m \u001b[0mNP\u001b[0m\u001b[1;33m)\u001b[0m\u001b[1;33m:\u001b[0m\u001b[1;33m\u001b[0m\u001b[1;33m\u001b[0m\u001b[0m\n\u001b[1;32m----> 6\u001b[1;33m         \u001b[0mdvdt1\u001b[0m\u001b[1;33m[\u001b[0m\u001b[0mi\u001b[0m\u001b[1;33m]\u001b[0m\u001b[1;33m,\u001b[0m \u001b[0mdρdt1\u001b[0m\u001b[1;33m[\u001b[0m\u001b[0mi\u001b[0m\u001b[1;33m]\u001b[0m\u001b[1;33m,\u001b[0m\u001b[0mdedt1\u001b[0m\u001b[1;33m[\u001b[0m\u001b[0mi\u001b[0m\u001b[1;33m]\u001b[0m \u001b[1;33m=\u001b[0m \u001b[0mcompute_force_i\u001b[0m\u001b[1;33m(\u001b[0m\u001b[0mi\u001b[0m\u001b[1;33m,\u001b[0m \u001b[0mpos_r\u001b[0m\u001b[1;33m,\u001b[0m \u001b[0mvel\u001b[0m\u001b[1;33m,\u001b[0m \u001b[0mρ\u001b[0m\u001b[1;33m,\u001b[0m\u001b[0me\u001b[0m\u001b[1;33m,\u001b[0m \u001b[0mmass\u001b[0m\u001b[1;33m,\u001b[0m\u001b[0mh\u001b[0m\u001b[1;33m,\u001b[0m\u001b[0mNP\u001b[0m\u001b[1;33m)\u001b[0m\u001b[1;33m\u001b[0m\u001b[1;33m\u001b[0m\u001b[0m\n\u001b[0m\u001b[0;32m      7\u001b[0m     \u001b[0mdxdt1\u001b[0m \u001b[1;33m=\u001b[0m \u001b[0mvel\u001b[0m\u001b[1;33m\u001b[0m\u001b[1;33m\u001b[0m\u001b[0m\n\u001b[0;32m      8\u001b[0m     \u001b[1;32mreturn\u001b[0m \u001b[0mdxdt1\u001b[0m\u001b[1;33m,\u001b[0m \u001b[0mdvdt1\u001b[0m\u001b[1;33m,\u001b[0m\u001b[0mdρdt1\u001b[0m\u001b[1;33m,\u001b[0m\u001b[0mdedt1\u001b[0m\u001b[1;33m\u001b[0m\u001b[1;33m\u001b[0m\u001b[0m\n",
      "\u001b[1;32m<ipython-input-328-b01c9f47188f>\u001b[0m in \u001b[0;36mcompute_force_i\u001b[1;34m(i, pos_r, vel, ρ, e, mass, h, NP)\u001b[0m\n\u001b[0;32m     31\u001b[0m             \u001b[0mvij\u001b[0m    \u001b[1;33m=\u001b[0m \u001b[0mvel\u001b[0m\u001b[1;33m[\u001b[0m\u001b[0mi\u001b[0m\u001b[1;33m]\u001b[0m \u001b[1;33m-\u001b[0m \u001b[0mvel\u001b[0m\u001b[1;33m[\u001b[0m\u001b[0mj\u001b[0m\u001b[1;33m]\u001b[0m        \u001b[1;31m#vector\u001b[0m\u001b[1;33m\u001b[0m\u001b[1;33m\u001b[0m\u001b[0m\n\u001b[0;32m     32\u001b[0m             \u001b[1;31m#Preasure term\u001b[0m\u001b[1;33m\u001b[0m\u001b[1;33m\u001b[0m\u001b[1;33m\u001b[0m\u001b[0m\n\u001b[1;32m---> 33\u001b[1;33m             \u001b[0mforce_\u001b[0m \u001b[1;33m=\u001b[0m \u001b[0mmass\u001b[0m\u001b[1;33m[\u001b[0m\u001b[0mj\u001b[0m\u001b[1;33m]\u001b[0m \u001b[1;33m*\u001b[0m  \u001b[1;33m(\u001b[0m\u001b[0mPj\u001b[0m \u001b[1;33m/\u001b[0m \u001b[0mρ\u001b[0m\u001b[1;33m[\u001b[0m\u001b[0mj\u001b[0m\u001b[1;33m]\u001b[0m \u001b[1;33m**\u001b[0m \u001b[1;36m2\u001b[0m \u001b[1;33m+\u001b[0m \u001b[0mPi\u001b[0m \u001b[1;33m/\u001b[0m \u001b[0mρ\u001b[0m\u001b[1;33m[\u001b[0m\u001b[0mi\u001b[0m\u001b[1;33m]\u001b[0m \u001b[1;33m**\u001b[0m \u001b[1;36m2\u001b[0m \u001b[1;33m+\u001b[0m \u001b[0mΠij\u001b[0m\u001b[1;33m)\u001b[0m\u001b[1;33m\u001b[0m\u001b[1;33m\u001b[0m\u001b[0m\n\u001b[0m\u001b[0;32m     34\u001b[0m \u001b[1;33m\u001b[0m\u001b[0m\n\u001b[0;32m     35\u001b[0m             \u001b[0mvv\u001b[0m     \u001b[1;33m-=\u001b[0m  \u001b[0mforce_\u001b[0m \u001b[1;33m*\u001b[0m \u001b[0mderivadaKernel\u001b[0m\u001b[1;33m\u001b[0m\u001b[1;33m\u001b[0m\u001b[0m\n",
      "\u001b[1;31mRuntimeWarning\u001b[0m: invalid value encountered in true_divide"
     ]
    }
   ],
   "source": [
    "k    = n - 2\n",
    "\n",
    "loop = tqdm(total = k, position = 0, leave = False)\n",
    "\n",
    "for i in range(0, k, 2):\n",
    "    \n",
    "    loop.set_description(\"loading ...\".format(i))\n",
    "    loop.update(2)\n",
    "    \n",
    "    v[i + 1]       = v[i]   + dt * 0.5 * a[i]\n",
    "    v_gorro[i + 2] = v[i]   + dt * 1.0 * a[i]\n",
    "    \n",
    "    _ρ_[i + 1]     = _ρ_[i]     + dt * 0.5 * ρ_p[i]\n",
    "    _e_[i + 1]     = _e_[i]     + dt * 0.5 * e_p[i]\n",
    "    ρ_gorro[i + 2] = _ρ_[i] + dt * 1.0 * ρ_p[i]\n",
    "    e_gorro[i + 2] = _e_[i] + dt * 1.0 * e_p[i]\n",
    "    \n",
    "    r[i + 2]       = r[i] + dt * v[i + 1] \n",
    "    dxdt, a[i+2], ρ_p[i+2], e_p[i+2] = force_per_particle(r[i+2],v_gorro[i+2],ρ_gorro[i+2],e_gorro[i+2],mass,h,NP)\n",
    "        \n",
    "    _ρ_[i + 2] = _ρ_[i + 1] + 0.5*dt*ρ_p[i+2] #+ 0.5*ρ_p[i]\n",
    "    _e_[i + 2] = _e_[i + 1] + 0.5*dt*e_p[i+2] #+ 0.5*ρ_p[i]\n",
    "    v[i + 2]   =   v[i + 1] + 0.5*dt*a[i+2] \n",
    "     "
   ]
  },
  {
   "cell_type": "code",
   "execution_count": 335,
   "metadata": {},
   "outputs": [
    {
     "data": {
      "text/plain": [
       "array([[2.5       , 2.5       , 2.5       , ..., 1.795     , 1.795     ,\n",
       "        1.795     ],\n",
       "       [2.5       , 2.5       , 2.5       , ..., 1.795     , 1.795     ,\n",
       "        1.795     ],\n",
       "       [2.50000006, 2.5       , 2.49999997, ..., 1.79499972, 1.79500003,\n",
       "        1.79500048],\n",
       "       ...,\n",
       "       [2.50001317, 2.49999873, 2.49999426, ..., 1.79486363, 1.79507271,\n",
       "        1.79522014],\n",
       "       [2.50001345, 2.49999881, 2.49999417, ..., 1.79485871, 1.79507977,\n",
       "        1.79523494],\n",
       "       [0.        , 0.        , 0.        , ..., 0.        , 0.        ,\n",
       "        0.        ]])"
      ]
     },
     "execution_count": 335,
     "metadata": {},
     "output_type": "execute_result"
    }
   ],
   "source": [
    "_e_"
   ]
  },
  {
   "cell_type": "code",
   "execution_count": 336,
   "metadata": {},
   "outputs": [
    {
     "data": {
      "text/plain": [
       "Text(0, 0.5, 'Density')"
      ]
     },
     "execution_count": 336,
     "metadata": {},
     "output_type": "execute_result"
    },
    {
     "data": {
      "image/png": "[encoded data removed]",
      "text/plain": [
       "<Figure size 432x288 with 1 Axes>"
      ]
     },
     "metadata": {
      "needs_background": "light"
     },
     "output_type": "display_data"
    }
   ],
   "source": [
    "#@interact\n",
    "#def grap( i = np.arange(180,198 , 2)):\n",
    "i = 32\n",
    "plt.plot(r[i], _ρ_[i])\n",
    "plt.xlabel(\"x\")\n",
    "plt.ylabel(\"Density\")\n",
    "#plt.ylim(-1,2)\n",
    "#plt.xlim(-0.6,0.6)\n",
    "#return plt.figure()\n",
    "#plt.xlim(1250, 1800)"
   ]
  },
  {
   "cell_type": "markdown",
   "metadata": {},
   "source": [
    "## Odeint "
   ]
  },
  {
   "cell_type": "code",
   "execution_count": 337,
   "metadata": {},
   "outputs": [],
   "source": [
    "#Parameter \n",
    "ρ1 = 1.0\n",
    "ρ2 = 0.25\n",
    "e1 = 2.5\n",
    "e2 = 1.795\n",
    "γ  = 1.4 \n",
    "L  = 1.2 #unit\n",
    "\n",
    "\n",
    "#Position of particles\n",
    "N1=320\n",
    "N2=80\n",
    "\n",
    "#Particles position\n",
    "x_left  = np.linspace(-0.6,0.0, N1)\n",
    "x_right = np.linspace(0.0,0.6, N2)\n",
    "\n",
    "h_left  = (1.2/N1) *np.ones(N1)\n",
    "h_right = (1.2/N2) *np.ones(N2)\n",
    "\n",
    "e_left  = e1*np.ones(N1)\n",
    "e_right = e2*np.ones(N2)\n",
    "\n",
    "ρ_left = ρ1*np.ones(N1)\n",
    "ρ_right= ρ2*np.ones(N2)\n",
    "\n",
    "x = np.concatenate([x_left,x_right])\n",
    "h = np.concatenate([h_left,h_right])\n",
    "e = np.concatenate([e_left,e_right])\n",
    "ρ = np.concatenate([ρ_left,ρ_right])\n",
    "\n",
    "\n",
    "NP=len(x)\n",
    "m0 = (ρ1 + ρ2) * L / NP\n",
    "mass = m0*np.ones(NP)/2\n",
    "v = 1E-12*np.ones(NP)"
   ]
  },
  {
   "cell_type": "code",
   "execution_count": 338,
   "metadata": {},
   "outputs": [],
   "source": [
    "Yini= np.concatenate((x,v,e,ρ))\n",
    "T   = np.arange(0.,5, 5E-3)\n",
    "T = T[0:40]\n",
    "def odesys(Y, t, mass, H,NP):\n",
    "    \n",
    "    Yr=Y.reshape((4,NP))\n",
    "\n",
    "    x = Yr[0]\n",
    "    v = Yr[1]\n",
    "    ρ = Yr[2]\n",
    "    e = Yr[3]\n",
    "    \n",
    "    \n",
    "    dxdt, dvdt,dρdt,dedt = force_per_particle(x, v, ρ, e,mass, H,NP)\n",
    "    \n",
    "    return np.concatenate((dxdt,dvdt,dρdt,dedt))\n"
   ]
  },
  {
   "cell_type": "code",
   "execution_count": 339,
   "metadata": {},
   "outputs": [],
   "source": [
    "H=h\n",
    "Y = odeint(odesys,Yini,T,args = (mass,H,NP))\n",
    "Yr=Y.reshape((len(T),4,NP))\n",
    "x=Yr[:,0]\n",
    "v=Yr[:,1]\n",
    "ρ =Yr[:,2]\n",
    "e=Yr[:,3]\n"
   ]
  },
  {
   "cell_type": "code",
   "execution_count": 341,
   "metadata": {},
   "outputs": [
    {
     "data": {
      "image/png": "[encoded data removed]",
      "text/plain": [
       "<Figure size 432x288 with 1 Axes>"
      ]
     },
     "metadata": {
      "needs_background": "light"
     },
     "output_type": "display_data"
    }
   ],
   "source": [
    "plt.figure()\n",
    "plt.plot(x[-1],ρ[-1])\n",
    "plt.show()"
   ]
  },
  {
   "cell_type": "code",
   "execution_count": null,
   "metadata": {},
   "outputs": [],
   "source": []
  }
 ],
 "metadata": {
  "kernelspec": {
   "display_name": "Python 3",
   "language": "python",
   "name": "python3"
  },
  "language_info": {
   "codemirror_mode": {
    "name": "ipython",
    "version": 3
   },
   "file_extension": ".py",
   "mimetype": "text/x-python",
   "name": "python",
   "nbconvert_exporter": "python",
   "pygments_lexer": "ipython3",
   "version": "3.8.3"
  }
 },
 "nbformat": 4,
 "nbformat_minor": 4
}
