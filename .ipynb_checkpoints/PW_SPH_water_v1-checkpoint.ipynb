{
 "cells": [
  {
   "cell_type": "code",
   "execution_count": 1,
   "metadata": {},
   "outputs": [
    {
     "data": {
      "text/plain": [
       "'\\nThis program simulated of  water drop.\\n\\n\\nState of code : Work in progress.\\n\\n    - Simulation of one water with SPH. \\n    \\n\\nBased on: PHYSICAL REVIEW E 96, 033115 (2017)\\n\\nAutor: Hernan Salinas \\nDate_update : 2/21/2021\\n'"
      ]
     },
     "execution_count": 1,
     "metadata": {},
     "output_type": "execute_result"
    }
   ],
   "source": [
    "import numpy as np\n",
    "import matplotlib.pylab as plt\n",
    "import seaborn as sb\n",
    "from scipy.spatial.distance import cdist\n",
    "from scipy.integrate import odeint\n",
    "\n",
    "\"\"\"\n",
    "This program simulated of  water drop.\n",
    "\n",
    "\n",
    "State of code : Work in progress.\n",
    "\n",
    "    - Simulation of one water with SPH. \n",
    "    - Verlet integration\n",
    "    \n",
    "\n",
    "Based on: PHYSICAL REVIEW E 96, 033115 (2017)\n",
    "\n",
    "Autor: Hernan Salinas \n",
    "Date_update : 2/21/2021\n",
    "\"\"\"\n"
   ]
  },
  {
   "cell_type": "markdown",
   "metadata": {},
   "source": [
    "# SPH \n",
    "Un fluido en cada punto y en cada momento tienen  propiedades como densidad, presión, temperatura, energía interna específica, \n",
    "energía potencial gravitacional, viscosidad entre otras propiedades. Las leyes físcas por las \n",
    "que se rigen son las leyes de la graviatación, las leyes de la hidrodinámica, la termodinámica, los \n",
    "modelos fisicos por los que se rigen son las leyes de Newton, ecuación de continuidad, ecuación de \n",
    "Poisson y las ecuaciones de estado.\n",
    "La solución del  problema con todas sus propiedades involucra gran calculo matematico y computacional, es \n",
    "por ello que se realizan las siguentes aproximaciones.\n",
    "\n",
    "- El fluído completo se discretiza en un conjunto de partículas distribuidas $\"$arbitrariamente$\"$ en el espacio.\n",
    "-Cada partícula tiene una posición en el espacio del fluido correspondiente a una parcela del fluido \n",
    "obervada.\n",
    "- La velocidad de cada partícula es igual a la velocidad de la parcela de fluido observado.\n",
    "- Las particulas más que partículas reales, son puntos de observación en el fluido, esta aproximación \n",
    "implica la formuluacion lagrangiana en la descripción del fluido.\n",
    "- Las propiedades \"continuas\" del fluido se calcular interpolando las propiedades medidas en el lugar\n",
    "de cada parcela.\n",
    "- Las propiedades evaluadas sobre la posición de una parcela del fluido se calcula como \n",
    "  $q(r)= \\int q(r')W(r-r',h)d^3r' $, donde $W(r,h)$ es la función de interpolación.\n",
    "\n",
    "\n",
    "\n",
    "## Kernel \n",
    "Para calcular las propiedades  de un fluído se puede  interpolar las propiedades en cada punto del espacio\n",
    "en el que se encuentran las parcelas, para ello se  emplea una función de interpolación o kernel de interpolación,\n",
    "dos tipos de kernel son mostrados en la figura 1 uno gaussiano y otro polinomial, estos kernel estan dados por la ecuaciónes siguientes ecuaciones \n",
    "respectivamente:\n",
    "\n",
    "## Wendland\n",
    "\n",
    "\\begin{equation}\n",
    "W(R, h)=\\alpha \\left\\{\n",
    "  \\begin{matrix} \\left(1-\\frac{|r|^3}{h}\\right) &  0\\leq r< h \\\\ \n",
    "  0 & if \\geq h\n",
    "  \\end{matrix}\n",
    "\\right.\n",
    "\\end{equation}\n",
    "\n",
    "donde $\\alpha_k=168/16\\pi h^3$\n",
    "\n",
    "\n",
    "## Gaussian\n",
    "\\begin{equation}\n",
    " W(R,h)=W_{o} e^{-(r/h)^2}\n",
    "\\end{equation} \n",
    "\n",
    "\n",
    "## Polynomial\n",
    "\\begin{equation}\n",
    " W(R,h)=Wo \\left\\{ \\begin{array}{ll}\n",
    "         4-6(\\frac{R}{h})^2+3(\\frac{R}{h})^3 & \\mbox{si $ 0 <= R <= h $};\\\\\n",
    "         |2-\\frac{R}{h}|^3 & \\mbox{si $h \\leqq R <= 2h$}.\\\\\n",
    " 0 & \\mbox{si $R > 2h$ }          \\end{array} \\right. \n",
    "\\end{equation} \n",
    "\n",
    "Este kernel difiere del reportado en el articulo Shigorina et al 2017"
   ]
  },
  {
   "cell_type": "code",
   "execution_count": 18,
   "metadata": {},
   "outputs": [],
   "source": [
    "def Wendland(R,h):\n",
    "    \"\"\"\n",
    "    Kernel for calculation of the Navier-Stokes momentum equation \n",
    "    Input : \n",
    "    R:  particle separation\n",
    "    h: lenght of particle\n",
    "    Outpunt: \n",
    "    Wenaldn kernel\n",
    "    \"\"\"\n",
    "    α = 168/(16*np.pi*h**3) #dim=3\n",
    "    α = 4.79/(1*np.pi*h**2) #dim=2 #Revisar estos valores\n",
    "  \n",
    "    q = R/h\n",
    "\n",
    "    if 0 <= q < 1:\n",
    "        \n",
    "        W = (1 - q )**3\n",
    "    else: \n",
    "        W = 0\n",
    "        \n",
    "    return W*α  \n",
    "    \n",
    "def Wendland_p(R,h):\n",
    "    \"\"\"\n",
    "    Derivate of Wenland Kernel \n",
    "    \n",
    "    Input:\n",
    "    R:  particle separation\n",
    "    Output: kernel W\n",
    "    \"\"\"\n",
    "    α = 4.79/(1*np.pi*h**2) #dim=2 #Revisar estos valores\n",
    "    q = R/h\n",
    "\n",
    "    if 0 <= q < 1:\n",
    "       \n",
    "        W = - (3./h) * (1 - q ) ** 2\n",
    "    else: \n",
    "        \n",
    "        W = 0\n",
    "        \n",
    "    return W*α\n",
    "    \n",
    "    \n",
    "def KernelGaussian(R,h):\n",
    "    \"\"\"\n",
    "    Input: Radii of particle and h \n",
    "    Output: Kernel values W\n",
    "    \"\"\"\n",
    "    q = R/h\n",
    "\n",
    "    Wo = (np.pi * h **2) ** ( -1 / 2)\n",
    "    W  = Wo * np.exp(- q ** 2)\n",
    "\n",
    "    return W\n",
    "\n",
    "\n",
    "def KernelPolynomial(R,h):\n",
    "    \"\"\"\n",
    "    Input: Radii of particle and h \n",
    "    Output: Kernel W\n",
    "    \n",
    "    \"\"\"\n",
    "    \n",
    "    W0 = 1.0# (np.pi * 4 * h** 3) ** (-1)\n",
    "    W = 0\n",
    "    q = R/h\n",
    "\n",
    "    if 0 <= q <  1:\n",
    "        \n",
    "        W = (1 - (3./2) * q  **2 + (3./4) * q **3)\n",
    "    \n",
    "    elif  1 <= q < 2:\n",
    "        \n",
    "        W = (1./4) * (2 - ( q )) ** 3\n",
    "    \n",
    "    elif q >= 2:\n",
    "        \n",
    "        W = 0\n",
    "        \n",
    "    else:\n",
    "        print(\"Error kernel Polynomial!\",R)\n",
    "    \n",
    "    return W\n",
    "\n",
    "\n",
    "def kernelPolynomial_p(R, h):\n",
    "    #REvisar si es utlizado\n",
    "    W0 = 1.0# (np.pi * 4 * h** 3) ** (-1)\n",
    "    W = 0\n",
    "    q = R/h\n",
    "    \n",
    "    if 0. <= q <  1:\n",
    "        \n",
    "        W = -(3./h) * q + (9./(4*h)) * q **2\n",
    "    \n",
    "    elif  1 <= q < 2:\n",
    "        \n",
    "        W = -(3./(4*h)) * (2 - ( q )) ** 2\n",
    "    \n",
    "    elif q >= 2:\n",
    "        \n",
    "        W = 0\n",
    "        \n",
    "    else:\n",
    "        print(\"Error kernel Polynomial!\",R)\n",
    "    \n",
    "    return W\n",
    "    \n",
    "    \n",
    "    \n",
    " #ref https://pysph.readthedocs.io/en/latest/reference/kernels.html\n"
   ]
  },
  {
   "cell_type": "code",
   "execution_count": 22,
   "metadata": {},
   "outputs": [],
   "source": [
    "h = 0.1\n",
    "step =  h /100\n",
    "R = np.arange(0, 4*h, step)\n",
    "\n",
    "#KG = KernelGaussian(R, h) #kernel gaussiano\n",
    "#KP = kernelPolinomial_(R, h) #kernel gaussiano\n",
    "KP = np.array([KernelPolynomial(r,h) for r in R]) # kernel polinomial\n",
    "\n",
    "KP_p = np.array([kernelPolynomial_p(r,h) for r in R]) #derivate of kernel polinomial \n",
    "\n",
    "W  = np.array([Wendland(r, h) for r in R])\n",
    "Wp  = np.array([Wendland_p(r, h) for r in R])\n"
   ]
  },
  {
   "cell_type": "code",
   "execution_count": 23,
   "metadata": {},
   "outputs": [
    {
     "data": {
      "image/png": "[encoded data removed]",
      "text/plain": [
       "<Figure size 720x288 with 2 Axes>"
      ]
     },
     "metadata": {
      "needs_background": "light"
     },
     "output_type": "display_data"
    }
   ],
   "source": [
    "plt.figure(figsize=(10,4))\n",
    "plt.subplot(121)\n",
    "#plt.plot(R, KG/np.max(KG), label = \"W gaussian\")\n",
    "plt.plot(R, W/np.max(W), \"k-\", label = \" Wendland\")\n",
    "plt.plot(R, Wp/np.min(Wp), label=\"Wendland Derivada\")\n",
    "plt.xlabel(\"R\",  fontsize=14)\n",
    "plt.ylabel(\"Kernel\", fontsize=14)\n",
    "plt.xticks(fontsize = 14)\n",
    "plt.yticks(fontsize = 14)\n",
    "plt.legend(fontsize = 8)\n",
    "\n",
    "plt.subplot(122)\n",
    "plt.plot(R, KP/np.max(KP),  label = \" W polynomial\")\n",
    "plt.plot(R, KP_p/np.min(KP_p),  label = \" W polynomial Derivate\")\n",
    "\n",
    "plt.xlabel(\"R\",  fontsize=14)\n",
    "plt.ylabel(\"Kernel\", fontsize=14)\n",
    "plt.xticks(fontsize = 14)\n",
    "plt.yticks(fontsize = 14)\n",
    "plt.legend(fontsize = 8)\n",
    "plt.show()"
   ]
  },
  {
   "cell_type": "markdown",
   "metadata": {},
   "source": [
    "# Navier Stokes equations\n",
    "\n",
    "## Continuity equation, mass conservation \n",
    "\n",
    "\n",
    "\\begin{equation}\n",
    "\\frac{\\mathrm{d} \\rho}{\\mathrm{d} t} = -\\rho \\nabla \\cdot \\vec{v}\n",
    "\\end{equation}\n",
    "\n",
    "$\\rho$ density and $v$ is the velocity \n",
    "\n",
    "## Momentum conservation \n",
    "\n",
    "## Euler description:\n",
    "\n",
    "\\begin{equation}\n",
    "\\frac{\\mathrm{D} \\vec{v}}{\\mathrm{D} t} = -\\frac{1}{\\rho} \\nabla P + \\frac{\\mu}{\\rho} \\nabla^2 \\vec{v} + \\vec{g}\n",
    "\\end{equation}\n",
    "\n",
    "$\\frac{D}{Dt}$ is the sutancial derivative for the velocity field $v$ , P is the preasure, g is the gravity and $\\mu$ is the viscosity. The term $\\nabla P$ is the force due to the change of the preasure, $\\mu \\nabla^2 v$ is the disipativy force, and $g$ has relation with weight of fluid. In the lagrangian description the navier stokes is for each particle in the fluid. \n",
    "\n",
    "## Lagrangian description:\n",
    "\n",
    "In the langrangian description each particle has a position  $\\vec{r}_i$ with velocity $\\vec{v}_i$, mass ${m}_i$ and density $\\rho_i$. The motion of equation for the all system are given by:\n",
    "\n",
    "\\begin{equation}\n",
    "\\frac{\\mathrm{d}\\vec{v}_i}{\\mathrm{d}t} = - \\sum_{j=1} ^N \\left( \\frac{P_j}{\\rho_j^2}+ \\frac{P_i}{\\rho_i^2} \\right)\\frac{\\vec{r}_{ij}}{r_ij}  \\frac{\\mathrm{d} W_{ij}}{\\mathrm{d}r_{ij}} + 2\\mu\\sum_{j=1}m_j \\frac{\\vec{v}_{ij}}{\\rho_i \\rho_j r_{ij}} + \\vec{g} + \\frac{1}{m_i} \\sum_{j=1}^{N} \\vec{F_{ij}}\n",
    "\\end{equation}\n",
    "\n",
    "\n",
    "Particle-particle interaction force for generate the surface tension and fluid weeting behavior.\n",
    "\n",
    "\\begin{equation}\n",
    "\\vec{F}_{ij} = s_{ij} \\left[ A_{ij} \\tilde{W}(r_{ij},h/2)- \\tilde{W}(r_{ij},h) \\right] \\frac{\\vec{r}_{ij}} {r_{ij}} \n",
    "\\end{equation}\n",
    "\n",
    "\n",
    "\n",
    "$s_{ij}$ surface tension, $A_{ij} $ is the Microscopic contact angle $A_{ff}=8$, $A_{sf}=24$. Where \n",
    "\n",
    "\n",
    "\n",
    "\\begin{equation}\n",
    " \\tilde{W}(R,h) =  \\left\\{ \\begin{array}{ll}\n",
    "         1-\\frac{3}{2}(\\frac{R}{h})^2+\\frac{3}{4}(\\frac{R}{h})^3 & \\mbox{si $ 0 <= R <= h $};\\\\\n",
    "         \\frac{1}{4}(2-\\frac{R}{h})^3 & \\mbox{si $h \\leqq R <= 2h$}.\\\\\n",
    " 0 & \\mbox{si $R > 2h$ }          \\end{array} \\right. \n",
    "\\end{equation} \n",
    "\n",
    "\n",
    "# PF-SPH discretization \n",
    "Pairwise force with smoth particle hydrodynamics\n",
    "\n",
    "## Density \n",
    "The density is obtained from the kernel summation \n",
    "\n",
    "\\begin{equation}\n",
    "\\rho_i=\\sum_{j=1}^{N} m_j W(\\vec{r}_{ij}, h)\n",
    "\\end{equation}\n",
    "\n",
    "\n",
    "## EOS equation \n",
    "\\begin{equation}\n",
    "P = Po \\left[ \\left( \\frac{\\rho}{\\rho_0}\\right)^2 -1 \\right]\n",
    "\\end{equation}\n",
    "\n",
    "\n",
    "where\n",
    "\n",
    "\\begin{equation}\n",
    "Po=\\frac{c^2\\rho_0}{\\gamma}\n",
    "\\end{equation}\n",
    "\n",
    "- The density of water is  $\\rho = 1\\times 10^3\\mathrm{kg/m^3}$,  the speed of the sound $c$ and the constante $\\gamma=3$. This values of $\\gamma$ is for aproximate the system to incomprensible fluid, in this case the ratio $\\delta \\rho/ \\rho< 0.3\\%$\n",
    "\n",
    "\n",
    "\n",
    "#$ Algoritm\n",
    "\n",
    "1. Generate particles in uniform cubi lattice with  red parameter $a= 0.5\\times \\mathrm{10}^{-4}$\n",
    "\n"
   ]
  },
  {
   "cell_type": "code",
   "execution_count": 8,
   "metadata": {},
   "outputs": [],
   "source": [
    "\n",
    "\n",
    "def eos(P0,  ρ, ρ0,γ):\n",
    "    \"\"\"\n",
    "    State equation, Batchelor and Monaghan\n",
    "    \"\"\"\n",
    "    return P0 * ((ρ / ρ0) **γ - 1)"
   ]
  },
  {
   "cell_type": "code",
   "execution_count": 26,
   "metadata": {},
   "outputs": [],
   "source": [
    "# Initial condition\n",
    "def init_positions(a, Np):\n",
    "    \"\"\"\n",
    "    Return the position r=(x, y) of particle \n",
    "    in regular grid for lagrangian representation\n",
    "    --Input--   \n",
    "    a: Red parameter\n",
    "    Np: Particles in one dimension, The total particle is Np*Np\n",
    "    --Output--\n",
    "    array with position x, y\n",
    "    \"\"\"\n",
    "    #Grid representation\n",
    "    x = np.arange(0, a*Np,a)\n",
    "    y = np.arange(0, a*Np,a)    \n",
    "    X,Y = np.meshgrid(x , y)  # Grid of particle in 2D \n",
    "    #Particle-particle representation\n",
    "    xp = X.flatten() #all position in x \n",
    "    yp = Y.flatten() #all position in y\n",
    "    pos_r = np.transpose(np.array([xp,yp]))\n",
    "    \n",
    "    return pos_r\n",
    "\n",
    "def init_velocity(Np, v0 = 0) : \n",
    "    \n",
    "    \"\"\"\n",
    "    Return the position v=(vx, vy) of particle \n",
    "    in regular grid for lagrangian representation\n",
    "    --Input--   \n",
    "    v0: magnitud of the distribution velocity    \n",
    "    Np: Particles in one dimension, The total particle is Np*Np\n",
    "    --Output--\n",
    "    array with position vx, vy\n",
    "    \"\"\"    \n",
    "    \n",
    "    vx = v0 * np.random.random(Np)\n",
    "    vy = v0 * np.random.random(Np)\n",
    "    vX, vY = np.meshgrid(vx, vy)\n",
    "    vxp = vX.flatten() #position \n",
    "    vyp = vY.flatten() #posicion\n",
    "    vel = np.transpose(np.array([vxp, vyp]))\n",
    "    return vel\n",
    "\n",
    "\n",
    "def force_ij(Rij, R, h,sij=1, Aij=1):\n",
    "    \"\"\"\n",
    "    Calculation the force\n",
    "    --Input--  \n",
    "    Rij   : Vector ΔR_ij= (Δx,Δy,Δz)_ij \n",
    "    R     : Magnitud of vector |ΔR|\n",
    "    h     : Compact support\n",
    "    sij   : Magnitud of surface tension, \n",
    "            s_ff, fluid-fluid interaction\n",
    "            s_sf, Fluid-solid intetaraction \n",
    "    Aij   : Microscopic static contact angle\n",
    "      \n",
    "    --Output--:\n",
    "    \n",
    "    \"\"\"\n",
    "    #Calculo del kernel de la fuerza\n",
    "    Wij_1 = KernelPolynomial(R, 0.5*h)\n",
    "    Wij_2 = KernelPolynomial(R, h)\n",
    "    #Cálculo de la fuerza\n",
    "    Fij = sij * ( Aij * Wij_1 - Wij_2)\n",
    "    return Fij\n",
    "    \n",
    "    \n"
   ]
  },
  {
   "cell_type": "code",
   "execution_count": 37,
   "metadata": {},
   "outputs": [],
   "source": [
    "period = 1\n",
    "count  = 0\n",
    "\n",
    "def system(Y, t, mass ):\n",
    "    global period,count\n",
    "    print(t)\n",
    "    if count%period == 0 :\n",
    "        print(t)\n",
    "        \n",
    "    count += 1\n",
    "    Yr = Y.reshape((5, Nt))\n",
    "   \n",
    "    x  = Yr[0]\n",
    "    y  = Yr[1]\n",
    "    vx = Yr[2]\n",
    "    vy = Yr[3]\n",
    "    ρ  = Yr[4]\n",
    "    \n",
    "    pos_r  = np.transpose(np.vstack((x, y)) )\n",
    "    vel    = np.transpose(np.vstack((vx, vy)) )\n",
    "   \n",
    "    \n",
    "    \n",
    "    drdt   = vel\n",
    "    dvdt  = np.zeros((Nt,2))\n",
    "    \n",
    "    #g     = np.array([0, gravity])\n",
    "    g     = np.array([0, 0])\n",
    "    \n",
    "    R     = np.zeros((Nt,Nt))\n",
    "    P     = eos(P0,  ρ, ρ0,γ)\n",
    "\n",
    "    \n",
    "\n",
    "    for i in range(0, Nt):\n",
    "        #if( i % 10 == 0):\n",
    "        #    print(i)\n",
    "        densidad = 0\n",
    "        Fij = 0\n",
    "        T2  = 0\n",
    "        T1  = 0\n",
    "\n",
    "        for j in range(0, Nt):\n",
    "\n",
    "            if(i != j):\n",
    "                Rij = pos_r[j] - pos_r[i] #vector\n",
    "\n",
    "\n",
    "                R[i,j] = np.linalg.norm(Rij)         #magnitude\n",
    "\n",
    "                vij    = vel[j] - vel[i]        #vector\n",
    "\n",
    "                Kernel = Wendland(R[i,j],h)\n",
    "                derivadaKernel = Wendland_p(R[i,j],h)\n",
    "\n",
    "                #PairWise \n",
    "                Fij += force_ij(Rij, R[i,j], h) * (Rij / R[i,j])\n",
    "\n",
    "                #Density-velocity termn\n",
    "                T2  += mass[j] / (R[i,j] * ρ[i] * ρ[j])  * derivadaKernel * vij \n",
    "\n",
    "                #Preasure term\n",
    "                T1  += mass[j] *  (P[j] / ρ[j] ** 2 + P[i] / ρ[i] ** 2) * derivadaKernel * (Rij/R[i,j]) \n",
    "\n",
    "                densidad += mass[j] * Wendland(R[i,j], h) \n",
    "\n",
    "\n",
    "        dvdt[i] = (Fij / mass[i] + g + 2 * μ * T2 - T1)\n",
    "        ρ[i]    = densidad\n",
    "        P       = eos(P0,  ρ, ρ0,γ)\n",
    "\n",
    "    out = np.hstack((drdt[:,0],drdt[:,1],dvdt[:,0], dvdt[:,1],ρ))\n",
    "\n",
    "    return out \n"
   ]
  },
  {
   "cell_type": "code",
   "execution_count": 38,
   "metadata": {},
   "outputs": [],
   "source": [
    "Np = 10     #Particle along x-axis\n",
    "Nt = Np ** 2 #Total particles\n",
    "\n",
    "#======================\n",
    "# Parameter \n",
    "#======================\n",
    "ρ0  = 1000              # kg/m^3    Water density\n",
    "μ   = 0.001296          # Pa,s      Viscosity\n",
    "m0  = (1e-3)**2/Nt      # 1.25E-10 #kg mass\n",
    "h   = 1.71E-4           # step\n",
    "c   = 4.5               # m/s speed of sound   \n",
    "gravity  = 9.81         # m/s^2  gravity\n",
    "Aij = 1                 # Aff=8, Asf=24\n",
    "sij = 1\n",
    "γ   = 3                 #\n",
    "P0  = c ** 2 * ρ0 / γ   #\n",
    "\n",
    "a     = 1 * 0.5E-4       # Red parameter\n",
    "mass  = m0 * np.ones(Nt) # mass\n",
    "ρ     = ρ0 * np.ones(Nt) # density for each particle \n",
    "\n",
    "pos_r = init_positions(a, Np)\n",
    "vel   = init_velocity(Np)\n",
    "#Presion Condiciones iniciales\n",
    "P     = eos(P0,  ρ, ρ0,γ)\n"
   ]
  },
  {
   "cell_type": "code",
   "execution_count": 39,
   "metadata": {},
   "outputs": [
    {
     "data": {
      "text/plain": [
       "3.1666666666666667e-06"
      ]
     },
     "execution_count": 39,
     "metadata": {},
     "output_type": "execute_result"
    }
   ],
   "source": [
    "step = 0.25 * h / (3 * c)\n",
    "step"
   ]
  },
  {
   "cell_type": "markdown",
   "metadata": {},
   "source": [
    "# Velocity Verlet integration\n",
    "- \n",
    "\\begin{equation}\n",
    "v_i \\left(t+\\frac{1}{2}\\Delta t\\right )  = v_i +\\frac{1}{2}a_i(t)\n",
    "\\end{equation}\n",
    "\n",
    "- \n",
    "\\begin{equation}\n",
    "\\bar{v}_i \\left(t + \\Delta t\\right )  = v_i +  a_i(t)\n",
    "\\end{equation}\n",
    "\n",
    "-\n",
    "\\begin{equation}\n",
    "a_i(t+\\Delta t) = \\frac{\\bar{v}_i (t+ \\Delta t) -v_i(t + 0.5\\Delta t)}{0.5 \\Delta t}\n",
    "\\end{equation}\n",
    "\n",
    "- \n",
    "\n",
    "\n",
    "\n",
    "\n",
    "\n",
    "\n"
   ]
  },
  {
   "cell_type": "code",
   "execution_count": null,
   "metadata": {},
   "outputs": [],
   "source": [
    "t=np.linspace(0, ):\n",
    "dt\n",
    "   \n",
    "for i,t_ in enumerate(t):\n",
    "    v[i + 1] = v[i] + dt * 0.5 * dvdt[i]\n",
    "    \n",
    "    v_[i + 2] = v[i] + dt * dvdt[i]\n",
    "    \n",
    "    \n",
    "    \n",
    "    ρ[i + 1] = ρ[i] + 0.5 * dt * ρ[i]\n",
    "    \n",
    "    r[i + 2] = r[i] + dt * v[i + 1]\n",
    "    \n",
    "    -Computer force in time i+2, \n",
    "    \n",
    "    ρ[i + 2] = ρ[i + 1] + 0.5 * dt *dρdt[i + 2]  \n",
    "    v[i + 2] = v[i + 1] + 0.5 * dt *dvdt[i]\n",
    "    \n",
    "  \n",
    "\n",
    "\n"
   ]
  },
  {
   "cell_type": "code",
   "execution_count": 40,
   "metadata": {},
   "outputs": [],
   "source": [
    "Yini = np.hstack((pos_r[:,0],pos_r[:,1],vel[:,0],vel[:,1], ρ))\n",
    "T    = np.arange(0,3E-6, 1E-9)\n"
   ]
  },
  {
   "cell_type": "code",
   "execution_count": 41,
   "metadata": {},
   "outputs": [
    {
     "name": "stdout",
     "output_type": "stream",
     "text": [
      "0.0\n",
      "0.0\n",
      "1.0247474866060233e-13\n",
      "1.0247474866060233e-13\n",
      "1.0247474866060233e-13\n",
      "1.0247474866060233e-13\n",
      "2.868780206434733e-15\n",
      "2.868780206434733e-15\n",
      "2.868780206434733e-15\n",
      "2.868780206434733e-15\n",
      "4.799957928279874e-16\n",
      "4.799957928279874e-16\n",
      "4.799957928279874e-16\n",
      "4.799957928279874e-16\n",
      "0.0\n",
      "0.0\n",
      "4.7999579282798744e-17\n",
      "4.7999579282798744e-17\n",
      "9.599915856559749e-17\n",
      "9.599915856559749e-17\n",
      "1.4399873784839623e-16\n",
      "1.4399873784839623e-16\n",
      "1.9199831713119498e-16\n",
      "1.9199831713119498e-16\n",
      "2.399978964139937e-16\n",
      "2.399978964139937e-16\n",
      "3.359970549795912e-16\n",
      "3.359970549795912e-16\n",
      "4.319962135451887e-16\n",
      "4.319962135451887e-16\n",
      "1.3919877992011635e-15\n",
      "1.3919877992011635e-15\n"
     ]
    },
    {
     "ename": "KeyboardInterrupt",
     "evalue": "",
     "output_type": "error",
     "traceback": [
      "\u001b[1;31m---------------------------------------------------------------------------\u001b[0m",
      "\u001b[1;31mKeyboardInterrupt\u001b[0m                         Traceback (most recent call last)",
      "\u001b[1;32m<ipython-input-41-96f1c675d6b1>\u001b[0m in \u001b[0;36m<module>\u001b[1;34m\u001b[0m\n\u001b[1;32m----> 1\u001b[1;33m \u001b[0mY\u001b[0m \u001b[1;33m=\u001b[0m \u001b[0modeint\u001b[0m\u001b[1;33m(\u001b[0m\u001b[0msystem\u001b[0m\u001b[1;33m,\u001b[0m \u001b[0mYini\u001b[0m\u001b[1;33m,\u001b[0m \u001b[0mT\u001b[0m\u001b[1;33m,\u001b[0m \u001b[0margs\u001b[0m \u001b[1;33m=\u001b[0m \u001b[1;33m(\u001b[0m\u001b[0mmass\u001b[0m\u001b[1;33m,\u001b[0m \u001b[1;33m)\u001b[0m\u001b[1;33m)\u001b[0m\u001b[1;33m\u001b[0m\u001b[1;33m\u001b[0m\u001b[0m\n\u001b[0m",
      "\u001b[1;32m~\\anaconda3\\lib\\site-packages\\scipy\\integrate\\odepack.py\u001b[0m in \u001b[0;36modeint\u001b[1;34m(func, y0, t, args, Dfun, col_deriv, full_output, ml, mu, rtol, atol, tcrit, h0, hmax, hmin, ixpr, mxstep, mxhnil, mxordn, mxords, printmessg, tfirst)\u001b[0m\n\u001b[0;32m    239\u001b[0m     \u001b[0mt\u001b[0m \u001b[1;33m=\u001b[0m \u001b[0mcopy\u001b[0m\u001b[1;33m(\u001b[0m\u001b[0mt\u001b[0m\u001b[1;33m)\u001b[0m\u001b[1;33m\u001b[0m\u001b[1;33m\u001b[0m\u001b[0m\n\u001b[0;32m    240\u001b[0m     \u001b[0my0\u001b[0m \u001b[1;33m=\u001b[0m \u001b[0mcopy\u001b[0m\u001b[1;33m(\u001b[0m\u001b[0my0\u001b[0m\u001b[1;33m)\u001b[0m\u001b[1;33m\u001b[0m\u001b[1;33m\u001b[0m\u001b[0m\n\u001b[1;32m--> 241\u001b[1;33m     output = _odepack.odeint(func, y0, t, args, Dfun, col_deriv, ml, mu,\n\u001b[0m\u001b[0;32m    242\u001b[0m                              \u001b[0mfull_output\u001b[0m\u001b[1;33m,\u001b[0m \u001b[0mrtol\u001b[0m\u001b[1;33m,\u001b[0m \u001b[0matol\u001b[0m\u001b[1;33m,\u001b[0m \u001b[0mtcrit\u001b[0m\u001b[1;33m,\u001b[0m \u001b[0mh0\u001b[0m\u001b[1;33m,\u001b[0m \u001b[0mhmax\u001b[0m\u001b[1;33m,\u001b[0m \u001b[0mhmin\u001b[0m\u001b[1;33m,\u001b[0m\u001b[1;33m\u001b[0m\u001b[1;33m\u001b[0m\u001b[0m\n\u001b[0;32m    243\u001b[0m                              \u001b[0mixpr\u001b[0m\u001b[1;33m,\u001b[0m \u001b[0mmxstep\u001b[0m\u001b[1;33m,\u001b[0m \u001b[0mmxhnil\u001b[0m\u001b[1;33m,\u001b[0m \u001b[0mmxordn\u001b[0m\u001b[1;33m,\u001b[0m \u001b[0mmxords\u001b[0m\u001b[1;33m,\u001b[0m\u001b[1;33m\u001b[0m\u001b[1;33m\u001b[0m\u001b[0m\n",
      "\u001b[1;32m<ipython-input-37-b31fe57985ad>\u001b[0m in \u001b[0;36msystem\u001b[1;34m(Y, t, mass)\u001b[0m\n\u001b[0;32m     47\u001b[0m \u001b[1;33m\u001b[0m\u001b[0m\n\u001b[0;32m     48\u001b[0m \u001b[1;33m\u001b[0m\u001b[0m\n\u001b[1;32m---> 49\u001b[1;33m                 \u001b[0mR\u001b[0m\u001b[1;33m[\u001b[0m\u001b[0mi\u001b[0m\u001b[1;33m,\u001b[0m\u001b[0mj\u001b[0m\u001b[1;33m]\u001b[0m \u001b[1;33m=\u001b[0m \u001b[0mnp\u001b[0m\u001b[1;33m.\u001b[0m\u001b[0mlinalg\u001b[0m\u001b[1;33m.\u001b[0m\u001b[0mnorm\u001b[0m\u001b[1;33m(\u001b[0m\u001b[0mRij\u001b[0m\u001b[1;33m)\u001b[0m         \u001b[1;31m#magnitude\u001b[0m\u001b[1;33m\u001b[0m\u001b[1;33m\u001b[0m\u001b[0m\n\u001b[0m\u001b[0;32m     50\u001b[0m \u001b[1;33m\u001b[0m\u001b[0m\n\u001b[0;32m     51\u001b[0m                 \u001b[0mvij\u001b[0m    \u001b[1;33m=\u001b[0m \u001b[0mvel\u001b[0m\u001b[1;33m[\u001b[0m\u001b[0mj\u001b[0m\u001b[1;33m]\u001b[0m \u001b[1;33m-\u001b[0m \u001b[0mvel\u001b[0m\u001b[1;33m[\u001b[0m\u001b[0mi\u001b[0m\u001b[1;33m]\u001b[0m        \u001b[1;31m#vector\u001b[0m\u001b[1;33m\u001b[0m\u001b[1;33m\u001b[0m\u001b[0m\n",
      "\u001b[1;32m<__array_function__ internals>\u001b[0m in \u001b[0;36mnorm\u001b[1;34m(*args, **kwargs)\u001b[0m\n",
      "\u001b[1;32m~\\anaconda3\\lib\\site-packages\\numpy\\linalg\\linalg.py\u001b[0m in \u001b[0;36mnorm\u001b[1;34m(x, ord, axis, keepdims)\u001b[0m\n\u001b[0;32m   2528\u001b[0m                 \u001b[0msqnorm\u001b[0m \u001b[1;33m=\u001b[0m \u001b[0mdot\u001b[0m\u001b[1;33m(\u001b[0m\u001b[0mx\u001b[0m\u001b[1;33m.\u001b[0m\u001b[0mreal\u001b[0m\u001b[1;33m,\u001b[0m \u001b[0mx\u001b[0m\u001b[1;33m.\u001b[0m\u001b[0mreal\u001b[0m\u001b[1;33m)\u001b[0m \u001b[1;33m+\u001b[0m \u001b[0mdot\u001b[0m\u001b[1;33m(\u001b[0m\u001b[0mx\u001b[0m\u001b[1;33m.\u001b[0m\u001b[0mimag\u001b[0m\u001b[1;33m,\u001b[0m \u001b[0mx\u001b[0m\u001b[1;33m.\u001b[0m\u001b[0mimag\u001b[0m\u001b[1;33m)\u001b[0m\u001b[1;33m\u001b[0m\u001b[1;33m\u001b[0m\u001b[0m\n\u001b[0;32m   2529\u001b[0m             \u001b[1;32melse\u001b[0m\u001b[1;33m:\u001b[0m\u001b[1;33m\u001b[0m\u001b[1;33m\u001b[0m\u001b[0m\n\u001b[1;32m-> 2530\u001b[1;33m                 \u001b[0msqnorm\u001b[0m \u001b[1;33m=\u001b[0m \u001b[0mdot\u001b[0m\u001b[1;33m(\u001b[0m\u001b[0mx\u001b[0m\u001b[1;33m,\u001b[0m \u001b[0mx\u001b[0m\u001b[1;33m)\u001b[0m\u001b[1;33m\u001b[0m\u001b[1;33m\u001b[0m\u001b[0m\n\u001b[0m\u001b[0;32m   2531\u001b[0m             \u001b[0mret\u001b[0m \u001b[1;33m=\u001b[0m \u001b[0msqrt\u001b[0m\u001b[1;33m(\u001b[0m\u001b[0msqnorm\u001b[0m\u001b[1;33m)\u001b[0m\u001b[1;33m\u001b[0m\u001b[1;33m\u001b[0m\u001b[0m\n\u001b[0;32m   2532\u001b[0m             \u001b[1;32mif\u001b[0m \u001b[0mkeepdims\u001b[0m\u001b[1;33m:\u001b[0m\u001b[1;33m\u001b[0m\u001b[1;33m\u001b[0m\u001b[0m\n",
      "\u001b[1;32m<__array_function__ internals>\u001b[0m in \u001b[0;36mdot\u001b[1;34m(*args, **kwargs)\u001b[0m\n",
      "\u001b[1;31mKeyboardInterrupt\u001b[0m: "
     ]
    }
   ],
   "source": [
    "Y = odeint(system, Yini, T, args = (mass, ))"
   ]
  },
  {
   "cell_type": "code",
   "execution_count": 81,
   "metadata": {},
   "outputs": [],
   "source": [
    "Yr = Y.reshape((len(T), 5, Nt))"
   ]
  },
  {
   "cell_type": "code",
   "execution_count": 82,
   "metadata": {},
   "outputs": [],
   "source": [
    "xp  = Yr[:,0,:]\n",
    "\n",
    "yp  = Yr[:,1,:]\n",
    "\n",
    "vxp = Yr[:,2,:]\n",
    "\n",
    "vyp = Yr[:,3,:]\n",
    "\n",
    "rho = Yr[:,4,:]\n"
   ]
  },
  {
   "cell_type": "code",
   "execution_count": 101,
   "metadata": {},
   "outputs": [
    {
     "data": {
      "text/plain": [
       "[<matplotlib.lines.Line2D at 0x1d4fd955bb0>]"
      ]
     },
     "execution_count": 101,
     "metadata": {},
     "output_type": "execute_result"
    },
    {
     "data": {
      "image/png": "[encoded data removed]",
      "text/plain": [
       "<Figure size 432x288 with 1 Axes>"
      ]
     },
     "metadata": {
      "needs_background": "light"
     },
     "output_type": "display_data"
    }
   ],
   "source": [
    "plt.plot(xp[575], yp[575],\"ro\")"
   ]
  },
  {
   "cell_type": "code",
   "execution_count": 42,
   "metadata": {},
   "outputs": [
    {
     "data": {
      "text/plain": [
       "[<matplotlib.lines.Line2D at 0x2d45a255dc0>]"
      ]
     },
     "execution_count": 42,
     "metadata": {},
     "output_type": "execute_result"
    },
    {
     "data": {
      "image/png": "[encoded data removed]",
      "text/plain": [
       "<Figure size 432x288 with 1 Axes>"
      ]
     },
     "metadata": {
      "needs_background": "light"
     },
     "output_type": "display_data"
    }
   ],
   "source": [
    "plt.plot(pos_r[:,0],pos_r[:,1],\"ro\")"
   ]
  },
  {
   "cell_type": "code",
   "execution_count": 26,
   "metadata": {},
   "outputs": [
    {
     "data": {
      "text/plain": [
       "array([-6750., -6750., -6750., -6750., -6750., -6750., -6750., -6750.,\n",
       "       -6750., -6750., -6750., -6750., -6750., -6750., -6750., -6750.,\n",
       "       -6750., -6750., -6750., -6750., -6750., -6750., -6750., -6750.,\n",
       "       -6750., -6750., -6750., -6750., -6750., -6750., -6750., -6750.,\n",
       "       -6750., -6750., -6750., -6750., -6750., -6750., -6750., -6750.,\n",
       "       -6750., -6750., -6750., -6750., -6750., -6750., -6750., -6750.,\n",
       "       -6750., -6750., -6750., -6750., -6750., -6750., -6750., -6750.,\n",
       "       -6750., -6750., -6750., -6750., -6750., -6750., -6750., -6750.,\n",
       "       -6750., -6750., -6750., -6750., -6750., -6750., -6750., -6750.,\n",
       "       -6750., -6750., -6750., -6750., -6750., -6750., -6750., -6750.,\n",
       "       -6750., -6750., -6750., -6750., -6750., -6750., -6750., -6750.,\n",
       "       -6750., -6750., -6750., -6750., -6750., -6750., -6750., -6750.,\n",
       "       -6750., -6750., -6750., -6750.])"
      ]
     },
     "execution_count": 26,
     "metadata": {},
     "output_type": "execute_result"
    }
   ],
   "source": [
    "Yini = np.flatten((xp,yp,vxp,vyp,rhos,es))\n",
    "\n",
    "#system(Y,t,mass ):\n"
   ]
  },
  {
   "cell_type": "code",
   "execution_count": 52,
   "metadata": {},
   "outputs": [
    {
     "data": {
      "text/plain": [
       "array([9.93487021e+17, 9.93487021e+17])"
      ]
     },
     "execution_count": 52,
     "metadata": {},
     "output_type": "execute_result"
    }
   ],
   "source": [
    "T2"
   ]
  },
  {
   "cell_type": "code",
   "execution_count": 53,
   "metadata": {},
   "outputs": [
    {
     "data": {
      "text/plain": [
       "array([3.26203405e+10, 3.26203405e+10])"
      ]
     },
     "execution_count": 53,
     "metadata": {},
     "output_type": "execute_result"
    }
   ],
   "source": [
    "T1"
   ]
  },
  {
   "cell_type": "code",
   "execution_count": 196,
   "metadata": {},
   "outputs": [
    {
     "data": {
      "text/plain": [
       "<matplotlib.quiver.Quiver at 0x25a9ecef2b0>"
      ]
     },
     "execution_count": 196,
     "metadata": {},
     "output_type": "execute_result"
    },
    {
     "data": {
      "image/png": "[encoded data removed]",
      "text/plain": [
       "<Figure size 432x288 with 1 Axes>"
      ]
     },
     "metadata": {
      "needs_background": "light"
     },
     "output_type": "display_data"
    }
   ],
   "source": [
    "plt.quiver(pos_r[:,0], pos_r[:,1],qq1,qq2)"
   ]
  },
  {
   "cell_type": "code",
   "execution_count": null,
   "metadata": {},
   "outputs": [],
   "source": []
  },
  {
   "cell_type": "code",
   "execution_count": 71,
   "metadata": {},
   "outputs": [],
   "source": [
    "\n",
    "def dij_Wij(x, y, h, Np):\n",
    "    \"\"\"\n",
    "    Distance matrix for calculate the force\n",
    "    \"\"\"\n",
    "\n",
    "    N   = Np\n",
    "    xij = np.zeros((N, N))\n",
    "    yij = np.zeros((N, N))\n",
    "    zij = np.zeros((N, N))\n",
    "    r = np.zeros((N, N))\n",
    "   \n",
    "    Wij_1 = np.zeros((N,N))\n",
    "    Wij_2 = np.zeros((N,N))\n",
    "    \n",
    "    for i in range(0,N):\n",
    "        for j in range (0,N):\n",
    "\n",
    "            if(i!=j):\n",
    "                xij[i, j] = x[i] - x[j]\n",
    "                yij[i, j] = y[i] - y[j]\n",
    "            \n",
    "                r[i,j] = np.sqrt(xij[i,j]**2 + yij[i,j]**2)\n",
    "                \n",
    "                Wij_1[i] = KernelPolynomial(r[i,j], 0.5*h)\n",
    "                Wij_2[i] = KernelPolynomial(r[i,j], h)\n",
    "\n",
    "                \n",
    "                \n",
    "    dic = {\"xij\":xij, \"yij\":yij, \"zij\":zij, \"rij\":r,\"Wij_1\":Wij_1, \"Wij_2\":Wij_2}\n",
    "    return dic"
   ]
  },
  {
   "cell_type": "code",
   "execution_count": 72,
   "metadata": {},
   "outputs": [],
   "source": [
    "d = dij_Wij(x,y,h,3)"
   ]
  },
  {
   "cell_type": "code",
   "execution_count": 73,
   "metadata": {},
   "outputs": [
    {
     "data": {
      "text/plain": [
       "array([[ 0.e+00, -5.e-05, -1.e-04],\n",
       "       [ 5.e-05,  0.e+00, -5.e-05],\n",
       "       [ 1.e-04,  5.e-05,  0.e+00]])"
      ]
     },
     "execution_count": 73,
     "metadata": {},
     "output_type": "execute_result"
    }
   ],
   "source": [
    "d[\"xij\"]"
   ]
  },
  {
   "cell_type": "code",
   "execution_count": 74,
   "metadata": {},
   "outputs": [
    {
     "data": {
      "text/plain": [
       "array([[ 0.e+00, -5.e-05, -1.e-04],\n",
       "       [ 5.e-05,  0.e+00, -5.e-05],\n",
       "       [ 1.e-04,  5.e-05,  0.e+00]])"
      ]
     },
     "execution_count": 74,
     "metadata": {},
     "output_type": "execute_result"
    }
   ],
   "source": [
    "d[\"yij\"]"
   ]
  },
  {
   "cell_type": "code",
   "execution_count": 14,
   "metadata": {},
   "outputs": [
    {
     "data": {
      "text/plain": [
       "array([[0.00000000e+00, 7.07106781e-05, 1.41421356e-04],\n",
       "       [7.07106781e-05, 0.00000000e+00, 7.07106781e-05],\n",
       "       [1.41421356e-04, 7.07106781e-05, 0.00000000e+00]])"
      ]
     },
     "execution_count": 14,
     "metadata": {},
     "output_type": "execute_result"
    }
   ],
   "source": [
    "d[\"rij\"]"
   ]
  },
  {
   "cell_type": "code",
   "execution_count": 84,
   "metadata": {},
   "outputs": [],
   "source": [
    "def Fij(distan_W, h, Aij, sij, dimN = 3 ):   \n",
    "    \n",
    "    \"\"\"\n",
    "    Particle-particle interaction force for generate the surface tension and fluid weeting behavior.\n",
    "    Input: \n",
    "    sij = magnitud of superficual tension \n",
    "    rij = vector with position x, y, z\n",
    "    Aij = Microscopic contact angle\n",
    "    h =  step \n",
    "    rij vector dimension (3, Nparticulas)\n",
    "    \n",
    "    Output:\n",
    "    F = particle-particle interaction force for generate the surface tension and fluid weeting behavior.\n",
    "    \"\"\"\n",
    "    rij = distan_W[\"xij\"], distan_W[\"yij\"], distan_W[\"zij\"]\n",
    "    r   = distan_W[\"rij\"]\n",
    "    \n",
    "    Wij_1, Wij_2  = distan_W[\"Wij_1\"], distan_W[\"Wij_2\"]\n",
    "    \n",
    "    r = np.sqrt(rij[0]**2 + rij[1]**2 + rij[2]**2)\n",
    "    \n",
    "   # Fij = np.array((dimN, len(Wij_1)))\n",
    "\n",
    "    #_Wij = Wij_1 * rij[0]  #Matitial operation,  Wij x, Wij y , Wij z  \n",
    "    #Wij_ = Wij_2 * rij[0]  #Matritial operation\n",
    "\n",
    "    Fij =  Aij * Wij_1 - Wij_2   \n",
    "    r[r==0] = 1 #Diagonal element, autointeraction, as diag(Wij)=0, the diag(r)==1 solve the problems for the division for 0\n",
    "\n",
    "    return Fij * sij * rij/r\n",
    "    \n"
   ]
  },
  {
   "cell_type": "code",
   "execution_count": 85,
   "metadata": {},
   "outputs": [
    {
     "ename": "NameError",
     "evalue": "name 'distan_W' is not defined",
     "output_type": "error",
     "traceback": [
      "\u001b[1;31m---------------------------------------------------------------------------\u001b[0m",
      "\u001b[1;31mNameError\u001b[0m                                 Traceback (most recent call last)",
      "\u001b[1;32m<ipython-input-85-89bcef9922c7>\u001b[0m in \u001b[0;36m<module>\u001b[1;34m\u001b[0m\n\u001b[1;32m----> 1\u001b[1;33m \u001b[0mf\u001b[0m \u001b[1;33m=\u001b[0m \u001b[0mFij\u001b[0m\u001b[1;33m(\u001b[0m\u001b[0mdistan_W\u001b[0m\u001b[1;33m,\u001b[0m \u001b[0mh\u001b[0m\u001b[1;33m,\u001b[0m \u001b[0mAij\u001b[0m\u001b[1;33m,\u001b[0m \u001b[0msij\u001b[0m\u001b[1;33m,\u001b[0m \u001b[0mdimN\u001b[0m \u001b[1;33m=\u001b[0m \u001b[1;36m3\u001b[0m \u001b[1;33m)\u001b[0m\u001b[1;33m\u001b[0m\u001b[1;33m\u001b[0m\u001b[0m\n\u001b[0m",
      "\u001b[1;31mNameError\u001b[0m: name 'distan_W' is not defined"
     ]
    }
   ],
   "source": [
    "f = Fij(distan_W, h, Aij, sij, dimN = 3 )"
   ]
  },
  {
   "cell_type": "code",
   "execution_count": 17,
   "metadata": {},
   "outputs": [
    {
     "ename": "NameError",
     "evalue": "name 'f' is not defined",
     "output_type": "error",
     "traceback": [
      "\u001b[1;31m---------------------------------------------------------------------------\u001b[0m",
      "\u001b[1;31mNameError\u001b[0m                                 Traceback (most recent call last)",
      "\u001b[1;32m<ipython-input-17-20d7f3276579>\u001b[0m in \u001b[0;36m<module>\u001b[1;34m\u001b[0m\n\u001b[1;32m----> 1\u001b[1;33m \u001b[0mnp\u001b[0m\u001b[1;33m.\u001b[0m\u001b[0mshape\u001b[0m\u001b[1;33m(\u001b[0m\u001b[0mf\u001b[0m\u001b[1;33m[\u001b[0m\u001b[1;36m0\u001b[0m\u001b[1;33m]\u001b[0m\u001b[1;33m)\u001b[0m\u001b[1;33m\u001b[0m\u001b[1;33m\u001b[0m\u001b[0m\n\u001b[0m",
      "\u001b[1;31mNameError\u001b[0m: name 'f' is not defined"
     ]
    }
   ],
   "source": [
    "np.shape(f[0])"
   ]
  },
  {
   "cell_type": "code",
   "execution_count": 347,
   "metadata": {},
   "outputs": [
    {
     "data": {
      "text/plain": [
       "array([[-0.        , -0.        , -0.        ,  0.3879386 ,  0.27431402,\n",
       "         0.17349142,  0.3879386 ,  0.34698283,  0.27431402],\n",
       "       [-0.        , -0.        , -0.        ,  0.34324908,  0.48542751,\n",
       "         0.34324908,  0.43417956,  0.48542751,  0.43417956],\n",
       "       [-0.        , -0.        , -0.        ,  0.22085955,  0.3492096 ,\n",
       "         0.49385696,  0.3492096 ,  0.44171909,  0.49385696],\n",
       "       [-0.48542751, -0.34324908, -0.21708978, -0.        , -0.        ,\n",
       "        -0.        ,  0.48542751,  0.34324908,  0.21708978],\n",
       "       [-0.28160678, -0.39825213, -0.28160678, -0.        , -0.        ,\n",
       "        -0.        ,  0.28160678,  0.39825213,  0.28160678],\n",
       "       [-0.11336386, -0.179244  , -0.2534893 , -0.        , -0.        ,\n",
       "        -0.        ,  0.11336386,  0.179244  ,  0.2534893 ],\n",
       "       [-0.49385696, -0.44171909, -0.3492096 , -0.49385696, -0.3492096 ,\n",
       "        -0.22085955, -0.        , -0.        , -0.        ],\n",
       "       [-0.22672773, -0.2534893 , -0.22672773, -0.179244  , -0.2534893 ,\n",
       "        -0.179244  , -0.        , -0.        , -0.        ],\n",
       "       [-0.179244  , -0.22672773, -0.2534893 , -0.11336386, -0.179244  ,\n",
       "        -0.2534893 , -0.        , -0.        , -0.        ]])"
      ]
     },
     "execution_count": 347,
     "metadata": {},
     "output_type": "execute_result"
    }
   ],
   "source": [
    "f[1]"
   ]
  },
  {
   "cell_type": "code",
   "execution_count": 348,
   "metadata": {},
   "outputs": [
    {
     "data": {
      "text/plain": [
       "<matplotlib.quiver.Quiver at 0x156a7472190>"
      ]
     },
     "execution_count": 348,
     "metadata": {},
     "output_type": "execute_result"
    },
    {
     "data": {
      "image/png": "[encoded data removed]",
      "text/plain": [
       "<Figure size 432x288 with 1 Axes>"
      ]
     },
     "metadata": {
      "needs_background": "light"
     },
     "output_type": "display_data"
    }
   ],
   "source": [
    "plt.quiver(xp,yp, f[0], f[1])"
   ]
  },
  {
   "cell_type": "code",
   "execution_count": null,
   "metadata": {},
   "outputs": [],
   "source": [
    "dvxdt = np.zeros(Nt)\n",
    "dvydt = np.zeros(Nt)\n",
    "\n",
    "\n",
    "R   = np.zeros((Nt,Nt))\n",
    "Fx   = np.zeros((Nt,Nt))\n",
    "Fy   = np.zeros((Nt,Nt))\n",
    "\n",
    "T2_x   = np.zeros((Nt,Nt))\n",
    "T2_y   = np.zeros((Nt,Nt))\n",
    "\n",
    "\n",
    "T1_x   = np.zeros((Nt,Nt))\n",
    "T1_y   = np.zeros((Nt,Nt))\n",
    "\n",
    "\n",
    "\n",
    "\n",
    "P = eos(P0,  ρ, ρ0,γ)\n",
    "for i in range(0, Nt):\n",
    "\n",
    "    densidad = 0\n",
    "    for j in range(0, Nt):\n",
    "        \n",
    "        if(i!=j):\n",
    "            \n",
    "            Rij = pos_r[i] - pos_r[j]\n",
    "            R[i,j] = mag(Rij)\n",
    "\n",
    "            #Calculo del kernel de la fuerza\n",
    "            Wij_1 = KernelPolynomial(R[i,j], 0.5*h)\n",
    "            Wij_2 = KernelPolynomial(R[i,j], h)\n",
    "         \n",
    "          \n",
    "            #Cálculo de la fuerza\n",
    "            Fij_ = sij * ( Aij * Wij_1 - Wij_2)\n",
    "            Fij = Fij_ * Rij / R[i,j]\n",
    "            \n",
    "            Fx[i,j] = Fij[0]\n",
    "            Fy[i,j] = Fij[1]\n",
    " \n",
    "\n",
    "            #Segundo termino\n",
    "            vij = vel[i]-vel[j]\n",
    "\n",
    "            derivadaKernel = Wendland_p(R[i,j],h)\n",
    "            T2 =  mass[j] * derivadaKernel * vij / (R[i,j] * ρ[i] * ρ[j])\n",
    "            T2_x[i,j]  = T2[0]\n",
    "            T2_y[i,j]  = T2[1]\n",
    "            \n",
    "                        \n",
    "            #Primer termino\n",
    "            T1 = mass[j] * (P[j] / ρ[j] ** 2 + P[i] / ρ[i] ** 2) * derivadaKernel\n",
    "            T1_x = T1 * Rij[0] / R[i,j]\n",
    "            T1_y = T1 * Rij[1] / R[i,j]\n",
    "            \n",
    "            \n",
    "            #Densidad \n",
    "            densidad = mass[j] * Wendland(R[i,j], h) + densidad\n",
    "            \n",
    "            \n",
    "    #Tercer termino        \n",
    "    fx_ = np.sum(Fx) / mass[i]\n",
    "    fy_ = np.sum(Fy) / mass[i]\n",
    "    \n",
    "    #Segundo termino \n",
    "    T2x_= 2*μ*np.sum(T2_x) \n",
    "    T2y_= 2*μ*np.sum(T2_y) \n",
    "    \n",
    "    #primer termino \n",
    "    T1x_ = -np.sum(T1_x)\n",
    "    T1y_  = -np.sum(T1_y)\n",
    "    \n",
    "    #En y:\n",
    "    dvydt[i] = T1y_ + T2y_ + gravity + fy_\n",
    "        \n",
    "    #En x:\n",
    "    dvxdt[i] = T1x_ + T2x_ + fx_\n",
    "\n",
    "    ρ[i] = densidad\n",
    "    \n",
    " \n",
    "\n",
    "    \n",
    "    "
   ]
  }
 ],
 "metadata": {
  "kernelspec": {
   "display_name": "Python 3",
   "language": "python",
   "name": "python3"
  },
  "language_info": {
   "codemirror_mode": {
    "name": "ipython",
    "version": 3
   },
   "file_extension": ".py",
   "mimetype": "text/x-python",
   "name": "python",
   "nbconvert_exporter": "python",
   "pygments_lexer": "ipython3",
   "version": "3.8.3"
  }
 },
 "nbformat": 4,
 "nbformat_minor": 4
}
